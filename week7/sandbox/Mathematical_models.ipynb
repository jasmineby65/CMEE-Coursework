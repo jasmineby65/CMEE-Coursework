{
 "cells": [
  {
   "cell_type": "code",
   "execution_count": 4,
   "id": "a69c385d",
   "metadata": {},
   "outputs": [],
   "source": [
    "%matplotlib inline \n",
    "# This allows plots from matplotlib to be displayed under the code\n",
    "import matplotlib.pyplot as p"
   ]
  },
  {
   "cell_type": "code",
   "execution_count": 57,
   "id": "2e655f68",
   "metadata": {},
   "outputs": [],
   "source": [
    "from sympy import *\n",
    "import scipy as sc\n",
    "import numpy as np\n",
    "init_printing() \n",
    "# Allows display of mathmatical characters without LaTeX formatting"
   ]
  },
  {
   "cell_type": "markdown",
   "id": "ef766e4f",
   "metadata": {},
   "source": [
    "\n",
    "#### Creating symbolic variables for the mathematical variables to work with\n"
   ]
  },
  {
   "cell_type": "code",
   "execution_count": 9,
   "id": "26fb1f31",
   "metadata": {},
   "outputs": [
    {
     "data": {
      "text/plain": [
       "sympy.core.symbol.Symbol"
      ]
     },
     "execution_count": 9,
     "metadata": {},
     "output_type": "execute_result"
    }
   ],
   "source": [
    "x = var('x') # Making a symbolic variable\n",
    "type(x)"
   ]
  },
  {
   "cell_type": "code",
   "execution_count": 14,
   "id": "98ca9b9c",
   "metadata": {},
   "outputs": [
    {
     "data": {
      "image/png": "[encoded data removed]",
      "text/latex": [
       "$\\displaystyle a$"
      ],
      "text/plain": [
       "a"
      ]
     },
     "execution_count": 14,
     "metadata": {},
     "output_type": "execute_result"
    }
   ],
   "source": [
    "a, b, c = var(\"a,b,c\") # Multiple variables can be assigned at once\n",
    "a"
   ]
  },
  {
   "cell_type": "code",
   "execution_count": 16,
   "id": "4b6c25ef",
   "metadata": {},
   "outputs": [
    {
     "data": {
      "text/plain": [
       "False"
      ]
     },
     "execution_count": 16,
     "metadata": {},
     "output_type": "execute_result"
    }
   ],
   "source": [
    "x = var(\"x\", real=True) # Adding asssumptions (constraints)\n",
    "x.is_imaginary"
   ]
  },
  {
   "cell_type": "code",
   "execution_count": 17,
   "id": "9838a12d",
   "metadata": {},
   "outputs": [
    {
     "data": {
      "image/png": "[encoded data removed]",
      "text/latex": [
       "$\\displaystyle \\text{False}$"
      ],
      "text/plain": [
       "False"
      ]
     },
     "execution_count": 17,
     "metadata": {},
     "output_type": "execute_result"
    }
   ],
   "source": [
    "x = var(\"x\", positive=True) \n",
    "x<0"
   ]
  },
  {
   "cell_type": "markdown",
   "id": "87559943",
   "metadata": {},
   "source": [
    "#### Symbolic equations - defining functions"
   ]
  },
  {
   "cell_type": "code",
   "execution_count": 45,
   "id": "6734b428",
   "metadata": {},
   "outputs": [
    {
     "data": {
      "image/png": "[encoded data removed]",
      "text/latex": [
       "$\\displaystyle \\left(x + \\pi\\right)^{2}$"
      ],
      "text/plain": [
       "       2\n",
       "(x + π) "
      ]
     },
     "execution_count": 45,
     "metadata": {},
     "output_type": "execute_result"
    }
   ],
   "source": [
    "MyFun = (pi+x)**2\n",
    "MyFun"
   ]
  },
  {
   "cell_type": "code",
   "execution_count": 42,
   "id": "d33f36be",
   "metadata": {
    "scrolled": false
   },
   "outputs": [
    {
     "data": {
      "image/png": "[encoded data removed]",
      "text/latex": [
       "$\\displaystyle N_{0} + \\left(- N_{0} + N_{max}\\right) e^{- e^{\\frac{e r_{max} \\left(- t + t_{lag}\\right)}{\\left(- N_{0} + N_{max}\\right) \\log{\\left(10 \\right)}} + 1}}$"
      ],
      "text/plain": [
       "                     ℯ⋅rₘₐₓ⋅(-t + t_lag)     \n",
       "                     ──────────────────── + 1\n",
       "                     (-N₀ + Nₘₐₓ)⋅log(10)    \n",
       "                   -ℯ                        \n",
       "N₀ + (-N₀ + Nₘₐₓ)⋅ℯ                          "
      ]
     },
     "execution_count": 42,
     "metadata": {},
     "output_type": "execute_result"
    }
   ],
   "source": [
    "N_0 = var(\"N_0\")\n",
    "N_max = var(\"N_max\")\n",
    "r_max = var(\"r_max\")\n",
    "t_lag = var(\"t_lag\")\n",
    "t = var(\"t\")\n",
    "\n",
    "MyFun1 = N_0 + (N_max - N_0) * exp(-exp(r_max * exp(1) * (t_lag - t)/((N_max - N_0) * log(10)) + 1))\n",
    "MyFun1"
   ]
  },
  {
   "cell_type": "code",
   "execution_count": 46,
   "id": "8745835c",
   "metadata": {},
   "outputs": [
    {
     "data": {
      "text/plain": [
       "'\\\\left(x + \\\\pi\\\\right)^{2}'"
      ]
     },
     "execution_count": 46,
     "metadata": {},
     "output_type": "execute_result"
    }
   ],
   "source": [
    "# Obtaining the LaTeX syntax of this equation\n",
    "latex(MyFun)"
   ]
  },
  {
   "cell_type": "code",
   "execution_count": 47,
   "id": "edeced98",
   "metadata": {},
   "outputs": [
    {
     "name": "stdout",
     "output_type": "stream",
     "text": [
      "\\left(x + \\pi\\right)^{2}\n"
     ]
    }
   ],
   "source": [
    "# The previous version had extra slashes for use in Python \n",
    "# For the actual version in LaTeX:\n",
    "print(latex(MyFun))"
   ]
  },
  {
   "cell_type": "markdown",
   "id": "2a355322",
   "metadata": {},
   "source": [
    "#### Numerical evalution"
   ]
  },
  {
   "cell_type": "markdown",
   "id": "bfa2fc05",
   "metadata": {},
   "source": [
    "To evaluate an expression numerically (i.e. simplify the expression until only a single numerical value is left - solving the equation), `evalf`/`N` can be used. It takes an argument `n` which specifies the nubmer of significant digits"
   ]
  },
  {
   "cell_type": "code",
   "execution_count": 38,
   "id": "393ff036",
   "metadata": {},
   "outputs": [
    {
     "data": {
      "image/png": "[encoded data removed]",
      "text/latex": [
       "$\\displaystyle 3.141592653589793238462643383279502884197169399375105820974944592307816406286208998628034825342117068$"
      ],
      "text/plain": [
       "3.1415926535897932384626433832795028841971693993751058209749445923078164062862\n",
       "08998628034825342117068"
      ]
     },
     "execution_count": 38,
     "metadata": {},
     "output_type": "execute_result"
    }
   ],
   "source": [
    "pi.evalf(n=100)"
   ]
  },
  {
   "cell_type": "code",
   "execution_count": 40,
   "id": "f1758d5f",
   "metadata": {},
   "outputs": [
    {
     "data": {
      "image/png": "[encoded data removed]",
      "text/latex": [
       "$\\displaystyle 3.141592653589793238462643383279502884197169399375105820974944592307816406286208998628034825342117068$"
      ],
      "text/plain": [
       "3.1415926535897932384626433832795028841971693993751058209749445923078164062862\n",
       "08998628034825342117068"
      ]
     },
     "execution_count": 40,
     "metadata": {},
     "output_type": "execute_result"
    }
   ],
   "source": [
    "N(pi,100) # Same function but shortened"
   ]
  },
  {
   "cell_type": "code",
   "execution_count": 51,
   "id": "9b223524",
   "metadata": {},
   "outputs": [
    {
     "data": {
      "image/png": "[encoded data removed]",
      "text/latex": [
       "$\\displaystyle 9.8696 \\left(0.31831 x + 1\\right)^{2}$"
      ],
      "text/plain": [
       "                      2\n",
       "9.8696⋅(0.31831⋅x + 1) "
      ]
     },
     "execution_count": 51,
     "metadata": {},
     "output_type": "execute_result"
    }
   ],
   "source": [
    "N(MyFun, 5) # Evaluating the function to 5 decimal places"
   ]
  },
  {
   "cell_type": "code",
   "execution_count": 52,
   "id": "5ec1ed6b",
   "metadata": {},
   "outputs": [
    {
     "data": {
      "image/png": "[encoded data removed]",
      "text/latex": [
       "$\\displaystyle 9.8696 \\left(0.31831 x + 1\\right)^{2}$"
      ],
      "text/plain": [
       "                      2\n",
       "9.8696⋅(0.31831⋅x + 1) "
      ]
     },
     "execution_count": 52,
     "metadata": {},
     "output_type": "execute_result"
    }
   ],
   "source": [
    "MyFun.evalf(n=5)"
   ]
  },
  {
   "cell_type": "code",
   "execution_count": 53,
   "id": "065b9114",
   "metadata": {},
   "outputs": [
    {
     "data": {
      "image/png": "[encoded data removed]",
      "text/latex": [
       "$\\displaystyle \\left(1.5 + \\pi\\right)^{2}$"
      ],
      "text/plain": [
       "         2\n",
       "(1.5 + π) "
      ]
     },
     "execution_count": 53,
     "metadata": {},
     "output_type": "execute_result"
    }
   ],
   "source": [
    "MyFun.subs(x, 1.5) # Substituting an element in the function "
   ]
  },
  {
   "cell_type": "code",
   "execution_count": 62,
   "id": "34f7f318",
   "metadata": {},
   "outputs": [
    {
     "data": {
      "image/png": "[encoded data removed]",
      "text/latex": [
       "$\\displaystyle \\left(a + 2 \\pi\\right)^{2}$"
      ],
      "text/plain": [
       "         2\n",
       "(a + 2⋅π) "
      ]
     },
     "execution_count": 62,
     "metadata": {},
     "output_type": "execute_result"
    }
   ],
   "source": [
    "MyFun_new = MyFun.subs(x, a+pi)\n",
    "MyFun_new"
   ]
  },
  {
   "cell_type": "code",
   "execution_count": 58,
   "id": "1f33429f",
   "metadata": {},
   "outputs": [
    {
     "data": {
      "text/plain": [
       "array([9.86960440108936, 10.5079229318073, 11.1662414625253,\n",
       "       11.8445599932432, 12.5428785239612, 13.2611970546792,\n",
       "       13.9995155853971, 14.7578341161151, 15.5361526468330,\n",
       "       16.3344711775510, 17.1527897082689, 17.9911082389869,\n",
       "       18.8494267697049, 19.7277453004228, 20.6260638311408,\n",
       "       21.5443823618587, 22.4827008925767, 23.4410194232947,\n",
       "       24.4193379540126, 25.4176564847306, 26.4359750154485,\n",
       "       27.4742935461665, 28.5326120768845, 29.6109306076024,\n",
       "       30.7092491383204, 31.8275676690383, 32.9658861997563,\n",
       "       34.1242047304742, 35.3025232611922, 36.5008417919102,\n",
       "       37.7191603226281, 38.9574788533461, 40.2157973840640,\n",
       "       41.4941159147820, 42.7924344455000, 44.1107529762179,\n",
       "       45.4490715069359, 46.8073900376538, 48.1857085683718,\n",
       "       49.5840270990898, 51.0023456298077, 52.4406641605257,\n",
       "       53.8989826912436, 55.3773012219616, 56.8756197526795,\n",
       "       58.3939382833975, 59.9322568141155, 61.4905753448334,\n",
       "       63.0688938755514, 64.6672124062693, 66.2855309369873,\n",
       "       67.9238494677053, 69.5821679984232, 71.2604865291412,\n",
       "       72.9588050598591, 74.6771235905771, 76.4154421212951,\n",
       "       78.1737606520130, 79.9520791827310, 81.7503977134489,\n",
       "       83.5687162441669, 85.4070347748848, 87.2653533056028,\n",
       "       89.1436718363208, 91.0419903670387, 92.9603088977567,\n",
       "       94.8986274284746, 96.8569459591926, 98.8352644899106,\n",
       "       100.833583020629, 102.851901551346, 104.890220082064,\n",
       "       106.948538612782, 109.026857143500, 111.125175674218,\n",
       "       113.243494204936, 115.381812735654, 117.540131266372,\n",
       "       119.718449797090, 121.916768327808, 124.135086858526,\n",
       "       126.373405389244, 128.631723919962, 130.910042450680,\n",
       "       133.208360981398, 135.526679512116, 137.864998042834,\n",
       "       140.223316573552, 142.601635104270, 144.999953634988,\n",
       "       147.418272165706, 149.856590696424, 152.314909227142,\n",
       "       154.793227757860, 157.291546288577, 159.809864819295,\n",
       "       162.348183350013, 164.906501880731, 167.484820411449,\n",
       "       170.083138942167], dtype=object)"
      ]
     },
     "execution_count": 58,
     "metadata": {},
     "output_type": "execute_result"
    }
   ],
   "source": [
    "x_vec = np.arange(0,10,0.1)\n",
    "# Evaluating a function over a range of values using Numpy arrays\n",
    "MyFun_vec = np.array([N(MyFun.subs(x,xx)) for xx in x_vec])\n",
    "MyFun_vec"
   ]
  },
  {
   "cell_type": "code",
   "execution_count": 64,
   "id": "e46e1c2d",
   "metadata": {},
   "outputs": [
    {
     "data": {
      "text/plain": [
       "array([39.4784176043574, 40.7450546657934, 42.0316917272293,\n",
       "       43.3383287886652, 44.6649658501011, 46.0116029115370,\n",
       "       47.3782399729729, 48.7648770344089, 50.1715140958448,\n",
       "       51.5981511572807, 53.0447882187166, 54.5114252801525,\n",
       "       55.9980623415884, 57.5046994030244, 59.0313364644603,\n",
       "       60.5779735258962, 62.1446105873321, 63.7312476487680,\n",
       "       65.3378847102040, 66.9645217716399, 68.6111588330758,\n",
       "       70.2777958945117, 71.9644329559476, 73.6710700173835,\n",
       "       75.3977070788195, 77.1443441402554, 78.9109812016913,\n",
       "       80.6976182631272, 82.5042553245631, 84.3308923859990,\n",
       "       86.1775294474349, 88.0441665088709, 89.9308035703068,\n",
       "       91.8374406317427, 93.7640776931786, 95.7107147546145,\n",
       "       97.6773518160505, 99.6639888774864, 101.670625938922,\n",
       "       103.697263000358, 105.743900061794, 107.810537123230,\n",
       "       109.897174184666, 112.003811246102, 114.130448307538,\n",
       "       116.277085368974, 118.443722430410, 120.630359491846,\n",
       "       122.836996553281, 125.063633614717, 127.310270676153,\n",
       "       129.576907737589, 131.863544799025, 134.170181860461,\n",
       "       136.496818921897, 138.843455983333, 141.210093044769,\n",
       "       143.596730106205, 146.003367167641, 148.430004229077,\n",
       "       150.876641290512, 153.343278351948, 155.829915413384,\n",
       "       158.336552474820, 160.863189536256, 163.409826597692,\n",
       "       165.976463659128, 168.563100720564, 171.169737782000,\n",
       "       173.796374843436, 176.443011904872, 179.109648966308,\n",
       "       181.796286027743, 184.502923089179, 187.229560150615,\n",
       "       189.976197212051, 192.742834273487, 195.529471334923,\n",
       "       198.336108396359, 201.162745457795, 204.009382519231,\n",
       "       206.876019580667, 209.762656642103, 212.669293703539,\n",
       "       215.595930764974, 218.542567826410, 221.509204887846,\n",
       "       224.495841949282, 227.502479010718, 230.529116072154,\n",
       "       233.575753133590, 236.642390195026, 239.729027256462,\n",
       "       242.835664317898, 245.962301379334, 249.108938440770,\n",
       "       252.275575502206, 255.462212563641, 258.668849625077,\n",
       "       261.895486686513], dtype=object)"
      ]
     },
     "execution_count": 64,
     "metadata": {},
     "output_type": "execute_result"
    }
   ],
   "source": [
    "MyFun_new_vec = np.array([N((MyFun_new).subs(a,xx)) for xx in x_vec])\n",
    "MyFun_new_vec"
   ]
  },
  {
   "cell_type": "code",
   "execution_count": 67,
   "id": "2326ced3",
   "metadata": {},
   "outputs": [
    {
     "data": {
      "text/plain": [
       "[<matplotlib.lines.Line2D at 0x7fc553f87790>]"
      ]
     },
     "execution_count": 67,
     "metadata": {},
     "output_type": "execute_result"
    },
    {
     "data": {
      "image/png": "[encoded data removed]",
      "text/plain": [
       "<Figure size 432x288 with 1 Axes>"
      ]
     },
     "metadata": {
      "needs_background": "light"
     },
     "output_type": "display_data"
    }
   ],
   "source": [
    "fig, ax = p.subplots()\n",
    "ax.plot(x_vec, MyFun_vec)\n",
    "ax.plot(x_vec, MyFun_new_vec)"
   ]
  },
  {
   "cell_type": "markdown",
   "id": "48db3bae",
   "metadata": {},
   "source": [
    "#### Vectorization for evaluation "
   ]
  },
  {
   "cell_type": "markdown",
   "id": "e7648d5d",
   "metadata": {},
   "source": [
    "`lambdify()` compiles a Sympy expression into a function that is more efficient to evlalute. The first argument is a python list of variables that the function will operate on. "
   ]
  },
  {
   "cell_type": "code",
   "execution_count": 71,
   "id": "b8702e58",
   "metadata": {},
   "outputs": [
    {
     "data": {
      "text/plain": [
       "array([  9.8696044 ,  10.50792293,  11.16624146,  11.84455999,\n",
       "        12.54287852,  13.26119705,  13.99951559,  14.75783412,\n",
       "        15.53615265,  16.33447118,  17.15278971,  17.99110824,\n",
       "        18.84942677,  19.7277453 ,  20.62606383,  21.54438236,\n",
       "        22.48270089,  23.44101942,  24.41933795,  25.41765648,\n",
       "        26.43597502,  27.47429355,  28.53261208,  29.61093061,\n",
       "        30.70924914,  31.82756767,  32.9658862 ,  34.12420473,\n",
       "        35.30252326,  36.50084179,  37.71916032,  38.95747885,\n",
       "        40.21579738,  41.49411591,  42.79243445,  44.11075298,\n",
       "        45.44907151,  46.80739004,  48.18570857,  49.5840271 ,\n",
       "        51.00234563,  52.44066416,  53.89898269,  55.37730122,\n",
       "        56.87561975,  58.39393828,  59.93225681,  61.49057534,\n",
       "        63.06889388,  64.66721241,  66.28553094,  67.92384947,\n",
       "        69.582168  ,  71.26048653,  72.95880506,  74.67712359,\n",
       "        76.41544212,  78.17376065,  79.95207918,  81.75039771,\n",
       "        83.56871624,  85.40703477,  87.26535331,  89.14367184,\n",
       "        91.04199037,  92.9603089 ,  94.89862743,  96.85694596,\n",
       "        98.83526449, 100.83358302, 102.85190155, 104.89022008,\n",
       "       106.94853861, 109.02685714, 111.12517567, 113.2434942 ,\n",
       "       115.38181274, 117.54013127, 119.7184498 , 121.91676833,\n",
       "       124.13508686, 126.37340539, 128.63172392, 130.91004245,\n",
       "       133.20836098, 135.52667951, 137.86499804, 140.22331657,\n",
       "       142.6016351 , 144.99995363, 147.41827217, 149.8565907 ,\n",
       "       152.31490923, 154.79322776, 157.29154629, 159.80986482,\n",
       "       162.34818335, 164.90650188, 167.48482041, 170.08313894])"
      ]
     },
     "execution_count": 71,
     "metadata": {},
     "output_type": "execute_result"
    }
   ],
   "source": [
    "MyFun_lamb = lambdify([x], MyFun, 'numpy')\n",
    "MyFun_vec = MyFun_lamb(x_vec)\n",
    "MyFun_vec"
   ]
  },
  {
   "cell_type": "code",
   "execution_count": 73,
   "id": "73183101",
   "metadata": {},
   "outputs": [
    {
     "name": "stdout",
     "output_type": "stream",
     "text": [
      "14.7 ms ± 213 µs per loop (mean ± std. dev. of 7 runs, 100 loops each)\n"
     ]
    }
   ],
   "source": [
    "%%timeit \n",
    "MyFun_vec = np.array([N(((x + pi)**2).subs(x, xx)) for xx in x_vec])\n",
    "MyFun_vec"
   ]
  },
  {
   "cell_type": "code",
   "execution_count": 75,
   "id": "067a9c23",
   "metadata": {},
   "outputs": [
    {
     "name": "stdout",
     "output_type": "stream",
     "text": [
      "2.17 µs ± 215 ns per loop (mean ± std. dev. of 7 runs, 100000 loops each)\n"
     ]
    }
   ],
   "source": [
    "%%timeit \n",
    "MyFun_vec = MyFun_lamb(x_vec) # Significantly faster!"
   ]
  },
  {
   "cell_type": "code",
   "execution_count": null,
   "id": "c5d47c65",
   "metadata": {},
   "outputs": [],
   "source": []
  }
 ],
 "metadata": {
  "kernelspec": {
   "display_name": "Python 3 (ipykernel)",
   "language": "python",
   "name": "python3"
  },
  "language_info": {
   "codemirror_mode": {
    "name": "ipython",
    "version": 3
   },
   "file_extension": ".py",
   "mimetype": "text/x-python",
   "name": "python",
   "nbconvert_exporter": "python",
   "pygments_lexer": "ipython3",
   "version": "3.8.10"
  }
 },
 "nbformat": 4,
 "nbformat_minor": 5
}
