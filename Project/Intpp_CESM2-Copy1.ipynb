{
 "cells": [
  {
   "cell_type": "code",
   "execution_count": 1,
   "id": "15376500-961d-4161-874d-69f2df31c267",
   "metadata": {},
   "outputs": [
    {
     "name": "stdout",
     "output_type": "stream",
     "text": [
      "nctoolkit is using Climate Data Operators version 1.9.8\n"
     ]
    }
   ],
   "source": [
    "from netCDF4 import Dataset\n",
    "import cartopy\n",
    "import numpy as np\n",
    "import matplotlib.pyplot as plt\n",
    "import matplotlib.colors as mcol\n",
    "import matplotlib.cm as cm\n",
    "import os\n",
    "import nctoolkit as nct\n",
    "import regex\n",
    "from matplotlib.ticker import FormatStrFormatter\n",
    "from cartopy.util import add_cyclic_point\n",
    "from matplotlib import colors\n",
    "import geopandas as gpd\n",
    "import shapely.geometry as shp"
   ]
  },
  {
   "cell_type": "code",
   "execution_count": 22,
   "id": "b2d718cd-e9af-4f2f-909e-7f1295e367ee",
   "metadata": {},
   "outputs": [],
   "source": [
    "nct.deep_clean()"
   ]
  },
  {
   "cell_type": "code",
   "execution_count": 23,
   "id": "ccf7c54c-1497-4f76-9b35-20629eecef8a",
   "metadata": {
    "tags": []
   },
   "outputs": [
    {
     "name": "stdout",
     "output_type": "stream",
     "text": [
      "/home/users/zy1921/Ind_variables\n"
     ]
    }
   ],
   "source": [
    "os.chdir('/home/users/zy1921/Ind_variables/')\n",
    "print(os.getcwd())"
   ]
  },
  {
   "cell_type": "code",
   "execution_count": 2,
   "id": "50c7e9b4-a660-4a4a-9ed8-03e4b0b178ec",
   "metadata": {},
   "outputs": [
    {
     "name": "stdout",
     "output_type": "stream",
     "text": [
      "Data/Raw/intpp_Omon_CESM2_esm-ssp585_r1i1p1f1_gn_201501-206412.nc, Data/Raw/intpp_Omon_CESM2_esm-ssp585_r1i1p1f1_gn_206501-210012.nc\n",
      "intpp\n",
      "CESM2\n",
      "esm-ssp585\n"
     ]
    }
   ],
   "source": [
    "# Load multiple files at once and getting variable names\n",
    "\n",
    "files = ['Data/Raw/intpp_Omon_CESM2_esm-ssp585_r1i1p1f1_gn_201501-206412.nc', \n",
    "        'Data/Raw/intpp_Omon_CESM2_esm-ssp585_r1i1p1f1_gn_206501-210012.nc']\n",
    "#nc = nct.open_data(files)\n",
    "#print(nc.variables)\n",
    "\n",
    "names = ', '.join(files)\n",
    "print(names)\n",
    "\n",
    "variable = regex.search(r\"(?<=Data/Raw/)[^_]*\", names).group()\n",
    "print(variable)\n",
    "model = regex.search(r\"(?<=Data/Raw/.*?_.*?_)[^_]*\", names).group()\n",
    "print(model)\n",
    "experiment = regex.search(r\"(?<=Data/Raw/.*?_.*?_.*?_)[^_]*\", names).group()\n",
    "print(experiment)\n",
    "\n",
    "start = 2015\n",
    "end = 2100"
   ]
  },
  {
   "cell_type": "code",
   "execution_count": 5,
   "id": "00c5b329-8d6e-432c-9d45-4ed74eead14b",
   "metadata": {},
   "outputs": [],
   "source": [
    "nc.merge(\"time\")\n",
    "nc.to_latlon(lon = [-180, 180], lat = [-90, 90], res = [1,1])\n",
    "nc.to_nc(\"Data/{}_{}_{}.nc\".format(variable, model, experiment), overwrite = True)"
   ]
  },
  {
   "cell_type": "markdown",
   "id": "910f069b-b2bf-486a-a620-cc76e79c1731",
   "metadata": {},
   "source": [
    "## Sea fronts\n"
   ]
  },
  {
   "cell_type": "code",
   "execution_count": 3,
   "id": "a0ed1c8e-307a-44c4-89d5-b87d7f2da69f",
   "metadata": {},
   "outputs": [],
   "source": [
    "fp = \"Shapes/SO_fronts.shp\"\n",
    "shape = gpd.read_file(fp)"
   ]
  },
  {
   "cell_type": "code",
   "execution_count": 4,
   "id": "8a652516-c832-40b4-b8cd-5c3db5bd5b26",
   "metadata": {},
   "outputs": [
    {
     "name": "stdout",
     "output_type": "stream",
     "text": [
      "<class 'geopandas.geodataframe.GeoDataFrame'>\n",
      "                                                name  front  \\\n",
      "0                                  Subtropical front    stf   \n",
      "1                                 Subantarctic front    saf   \n",
      "2                                        Polar front     pf   \n",
      "3       Southern Antarctic circumpolar current front  saccf   \n",
      "4  Southern Boundary of the Antarctic circumpolar...   sbdy   \n",
      "\n",
      "                                            geometry  \n",
      "0  MULTILINESTRING ((-179.96100 -44.47680, -178.4...  \n",
      "1  LINESTRING (-179.91000 -56.84000, -179.30000 -...  \n",
      "2  LINESTRING (-179.97000 -61.71000, -179.21000 -...  \n",
      "3  MULTILINESTRING ((-179.65000 -64.51000, -179.3...  \n",
      "4  LINESTRING (-179.13700 -65.55500, -177.93700 -...  \n"
     ]
    }
   ],
   "source": [
    "print(type(shape))\n",
    "\n",
    "print(shape)"
   ]
  },
  {
   "cell_type": "code",
   "execution_count": 5,
   "id": "2d0bc762-1195-4080-a832-96b43f1c81cf",
   "metadata": {},
   "outputs": [
    {
     "data": {
      "text/plain": [
       "<AxesSubplot:>"
      ]
     },
     "execution_count": 5,
     "metadata": {},
     "output_type": "execute_result"
    },
    {
     "data": {
      "image/png": "[encoded data removed]",
      "text/plain": [
       "<Figure size 432x288 with 1 Axes>"
      ]
     },
     "metadata": {
      "needs_background": "light"
     },
     "output_type": "display_data"
    }
   ],
   "source": [
    "shape.plot()"
   ]
  },
  {
   "cell_type": "code",
   "execution_count": 6,
   "id": "5787db23-5ba7-476a-b7c3-97b4ead77964",
   "metadata": {},
   "outputs": [
    {
     "data": {
      "text/plain": [
       "<Geographic 2D CRS: EPSG:4326>\n",
       "Name: WGS 84\n",
       "Axis Info [ellipsoidal]:\n",
       "- Lat[north]: Geodetic latitude (degree)\n",
       "- Lon[east]: Geodetic longitude (degree)\n",
       "Area of Use:\n",
       "- name: World\n",
       "- bounds: (-180.0, -90.0, 180.0, 90.0)\n",
       "Datum: World Geodetic System 1984\n",
       "- Ellipsoid: WGS 84\n",
       "- Prime Meridian: Greenwich"
      ]
     },
     "execution_count": 6,
     "metadata": {},
     "output_type": "execute_result"
    }
   ],
   "source": [
    "shape.crs"
   ]
  },
  {
   "cell_type": "code",
   "execution_count": 7,
   "id": "aa7498fe-8267-4b13-a364-2a053fba0f13",
   "metadata": {},
   "outputs": [
    {
     "data": {
      "image/svg+xml": [
       "<svg xmlns=\"http://www.w3.org/2000/svg\" xmlns:xlink=\"http://www.w3.org/1999/xlink\" width=\"300\" height=\"100.0\" viewBox=\"-193.48348000000001 -84.80548 387.35496 46.08596\" preserveAspectRatio=\"xMinYMin meet\"><g transform=\"matrix(1,0,0,-1,0,-123.525)\"><polyline fill=\"none\" stroke=\"#66cc99\" stroke-width=\"2.5823664\" points=\"-179.137,-65.555 -177.937,-65.681 -176.737,-65.61 -175.579,-65.462 -174.415,-65.391 -173.413,-65.351 -172.327,-65.213 -171.19,-64.948 -169.757,-64.606 -168.035,-64.275 -166.649,-63.98 -165.419,-63.712 -163.937,-63.446 -162.599,-63.216 -161.771,-63.027 -160.883,-62.816 -159.824,-62.591 -158.753,-62.447 -157.262,-62.191 -155.762,-61.785 -154.397,-61.368 -153.308,-60.959 -152.144,-60.574 -151.421,-60.352 -150.123,-60.321 -149.874,-60.12 -149.469,-59.914 -148.929,-59.495 -148.485,-59.185 -147.99,-58.983 -147.222,-58.901 -146.151,-58.958 -145.26,-59.072 -144.504,-59.205 -143.931,-59.344 -143.457,-59.504 -143.088,-59.641 -142.707,-59.765 -142.164,-59.916 -141.57,-60.026 -141.087,-60.1 -140.565,-60.208 -139.917,-60.324 -139.113,-60.354 -138.357,-60.296 -137.613,-60.291 -137.07,-60.48 -136.902,-60.826 -137.217,-61.341 -137.808,-61.814 -138.396,-62.205 -138.879,-62.734 -139.119,-63.415 -139.116,-64.096 -138.813,-64.622 -138.039,-65.125 -137.403,-65.367 -137.046,-65.506 -136.497,-65.657 -135.63,-65.784 -134.631,-65.926 -133.359,-66.267 -132.003,-66.747 -130.809,-67.258 -130.563,-67.558 -130.422,-67.696 -129.684,-67.893 -129.066,-68.089 -128.532,-68.291 -128.007,-68.475 -127.467,-68.634 -126.31,-68.863 -125.053,-69.059 -124.069,-69.138 -122.536,-69.187 -121.051,-69.275 -119.314,-69.374 -117.379,-69.496 -115.834,-69.565 -114.517,-69.636 -113.668,-69.676 -112.81,-69.722 -111.955,-69.742 -111.289,-69.747 -110.944,-69.745 -110.443,-69.759 -109.987,-69.784 -109.9,-69.788 -109.759,-69.811 -109.273,-69.921 -108.79,-70.089 -108.28,-70.263 -107.584,-70.411 -106.894,-70.456 -106.105,-70.459 -105.436,-70.442 -105.028,-70.432 -104.767,-70.433 -104.683,-70.432 -104.35,-70.422 -103.978,-70.404 -103.786,-70.394 -103.495,-70.384 -103.048,-70.374 -102.643,-70.364 -102.142,-70.357 -101.401,-70.327 -100.573,-70.29 -99.853,-70.265 -99.172,-70.281 -98.938,-70.294 -98.932,-70.294 -98.932,-70.295 -98.926,-70.297 -98.926,-70.297 -98.86,-70.306 -98.656,-70.325 -98.287,-70.323 -98.065,-70.32 -98.017,-70.318 -97.837,-70.307 -97.513,-70.293 -96.886,-70.248 -96.01,-70.174 -95.374,-70.111 -94.606,-70.081 -93.592,-70.115 -92.632,-70.148 -91.654,-70.151 -90.913,-70.123 -90.217,-70.083 -89.512,-70.022 -88.366,-69.85 -86.869,-69.572 -85.669,-69.407 -84.544,-69.337 -82.87,-69.264 -81.889,-69.201 -81.172,-69.169 -80.71,-69.122 -80.209,-69.06 -79.718,-68.948 -79.376,-68.881 -78.947,-68.79 -78.47,-68.624 -77.81,-68.368 -77.384,-68.193 -76.796,-67.884 -76.214,-67.588 -75.641,-67.317 -75.059,-67.046 -74.348,-66.89 -73.619,-66.773 -72.743,-66.576 -71.984,-66.364 -71.567,-66.248 -71.174,-66.137 -70.925,-66.007 -70.706,-65.802 -70.406,-65.601 -69.938,-65.4 -69.515,-65.106 -69.02,-64.703 -68.492,-64.355 -67.853,-64.1 -66.989,-63.855 -66.323,-63.709 -66.104,-63.663 -66.092,-63.66 -66.092,-63.66 -66.092,-63.659 -66.086,-63.659 -65.903,-63.623 -65.474,-63.556 -65.213,-63.501 -64.886,-63.409 -64.451,-63.296 -63.896,-63.14 -63.353,-62.92 -62.837,-62.67 -62.315,-62.424 -61.667,-62.17 -61.043,-61.991 -60.272,-61.801 -60.018,-61.79 -59.622,-61.688 -59.178,-61.616 -58.779,-61.521 -58.389,-61.461 -57.906,-61.369 -57.213,-61.266 -56.781,-61.168 -56.748,-61.164 -56.496,-61.152 -56.199,-61.141 -55.929,-61.035 -55.722,-60.853 -55.518,-60.673 -55.107,-60.5 -54.315,-60.257 -53.277,-59.952 -52.491,-59.783 -51.87,-59.609 -51.435,-59.411 -51.027,-59.183 -50.586,-59.012 -50.04,-58.994 -49.65,-59.168 -49.506,-59.465 -49.362,-59.752 -48.987,-59.919 -48.618,-59.859 -48.486,-59.64 -48.375,-59.353 -48.06,-59.151 -47.703,-59.172 -47.43,-59.34 -47.193,-59.576 -46.713,-59.623 -46.221,-59.503 -45.912,-59.203 -45.522,-58.909 -45.039,-58.805 -44.529,-58.91 -44.088,-59.074 -43.509,-59.018 -42.723,-58.859 -41.922,-58.728 -41.385,-58.718 -40.824,-58.686 -40.314,-58.536 -39.915,-58.466 -39.402,-58.555 -38.73,-58.721 -37.986,-58.744 -36.951,-58.636 -36.073,-58.536 -35.332,-58.511 -34.561,-58.492 -33.97,-58.461 -33.52,-58.381 -32.953,-58.223 -32.329,-57.976 -31.804,-57.691 -31.456,-57.479 -30.982,-57.17 -30.424,-56.758 -30.007,-56.173 -30.109,-55.692 -30.583,-55.247 -31.174,-54.889 -31.948,-54.524 -32.419,-54.257 -32.665,-53.986 -32.785,-53.683 -32.509,-53.392 -31.849,-53.166 -31.042,-53.091 -30.271,-53.283 -29.671,-53.587 -29.41,-53.726 -29.11,-53.848 -28.801,-53.986 -28.714,-54.018 -28.339,-54.244 -27.892,-54.431 -27.403,-54.663 -27.019,-54.917 -26.515,-55.344 -26.005,-55.841 -25.624,-56.143 -25.186,-56.634 -25.0,-56.937 -24.871,-57.227 -24.712,-57.679 -24.439,-57.98 -23.863,-58.268 -23.419,-58.494 -23.299,-58.781 -23.473,-59.226 -23.941,-59.747 -24.151,-60.075 -23.956,-60.477 -23.347,-60.84 -22.411,-61.032 -21.355,-61.025 -20.419,-60.807 -19.831,-60.664 -18.937,-60.7 -18.034,-60.674 -17.209,-60.392 -16.357,-59.92 -15.64,-59.658 -14.686,-59.462 -13.507,-59.194 -12.256,-58.878 -11.329,-58.588 -10.783,-58.408 -9.973,-58.182 -8.824,-57.952 -7.438,-57.776 -6.358,-57.619 -5.758,-57.486 -4.909,-57.253 -4.453,-57.154 -4.186,-57.103 -3.523,-56.896 -2.497,-56.644 -1.177,-56.333 -0.697,-56.221 -0.037,-56.098 0.758,-55.883 1.4,-55.702 2.0,-55.574 2.327,-55.538 2.924,-55.536 3.875,-55.354 4.823,-54.903 5.831,-54.346 6.881,-53.963 8.147,-53.807 9.047,-53.496 9.794,-53.24 10.762,-53.066 12.019,-53.071 13.495,-53.233 14.842,-53.265 15.964,-53.249 16.672,-53.242 17.611,-53.215 18.652,-53.256 19.579,-53.376 20.389,-53.587 21.334,-53.804 22.453,-54.209 23.413,-54.734 24.136,-55.277 24.724,-55.817 25.138,-56.213 25.723,-56.754 26.485,-57.494 27.067,-58.116 27.565,-58.741 28.138,-59.366 28.798,-59.94 29.299,-60.325 29.911,-60.667 30.448,-60.897 30.567,-60.908 31.113,-61.098 31.641,-61.322 32.19,-61.599 32.715,-61.818 33.306,-62.032 33.762,-62.218 34.215,-62.385 34.722,-62.532 35.367,-62.748 35.997,-62.958 36.507,-63.086 36.927,-63.214 37.428,-63.449 37.941,-63.786 38.403,-64.105 39.105,-64.369 40.14,-64.532 41.382,-64.58 43.398,-64.494 45.339,-64.338 46.737,-64.195 48.411,-63.941 50.253,-63.678 51.741,-63.57 53.067,-63.626 54.05,-63.758 55.133,-64.084 56.099,-64.517 57.077,-64.971 58.403,-65.324 59.57,-65.513 60.59,-65.584 61.763,-65.619 63.068,-65.574 64.817,-65.49 66.842,-65.434 68.735,-65.436 70.175,-65.427 71.966,-65.442 73.46,-65.428 74.21,-65.411 74.939,-65.399 75.986,-65.406 76.871,-65.46 77.93,-65.555 78.845,-65.576 79.721,-65.459 80.543,-65.26 81.227,-65.075 81.866,-64.879 82.565,-64.67 83.432,-64.482 84.329,-64.355 84.902,-64.233 85.457,-64.039 86.12,-63.732 86.813,-63.173 87.53,-62.568 88.064,-62.142 88.646,-61.918 89.543,-61.833 90.887,-61.987 92.738,-62.223 94.55,-62.42 96.206,-62.404 98.411,-62.273 100.291,-62.194 102.136,-62.156 103.912,-62.155 105.631,-62.149 107.827,-62.206 109.963,-62.278 112.015,-62.367 113.86,-62.464 115.6,-62.562 117.307,-62.663 118.648,-62.743 119.806,-62.818 120.526,-62.866 120.885,-63.1 121.536,-63.3 122.295,-63.693 123.492,-63.814 124.692,-63.929 125.724,-64.025 126.57,-64.054 127.335,-64.039 128.208,-64.031 129.126,-64.014 130.146,-64.006 130.932,-63.991 131.589,-63.922 131.814,-63.886 131.895,-63.865 132.186,-63.859 132.621,-63.861 133.104,-63.902 133.446,-63.906 134.253,-63.848 134.481,-63.857 134.715,-63.863 135.225,-63.883 135.522,-63.925 135.861,-63.943 136.554,-63.973 137.466,-63.967 138.117,-63.948 139.077,-63.942 140.151,-63.948 141.033,-63.964 141.732,-63.975 142.227,-63.973 142.653,-63.998 143.049,-64.048 143.525,-64.215 144.299,-64.355 145.478,-64.376 146.48,-64.407 147.158,-64.436 147.743,-64.517 148.28,-64.576 148.949,-64.598 149.696,-64.623 150.395,-64.657 151.049,-64.513 151.532,-64.208 152.114,-64.008 152.87,-63.88 153.83,-63.726 154.952,-63.513 156.134,-63.228 157.139,-62.921 157.991,-62.779 158.342,-62.731 158.75,-62.66 159.077,-62.642 159.467,-62.663 160.328,-62.702 161.537,-62.748 162.881,-62.829 164.201,-62.914 165.428,-63.087 166.433,-63.283 167.792,-63.51 169.076,-63.74 170.369,-63.913 171.659,-64.148 172.748,-64.372 173.588,-64.516 174.539,-64.718 175.544,-64.919 176.681,-65.094 178.04,-65.219 179.525,-65.376\" opacity=\"0.8\" /></g></svg>"
      ],
      "text/plain": [
       "<shapely.geometry.linestring.LineString at 0x7f999414eee0>"
      ]
     },
     "execution_count": 7,
     "metadata": {},
     "output_type": "execute_result"
    }
   ],
   "source": [
    "shape['geometry'][4]"
   ]
  },
  {
   "cell_type": "code",
   "execution_count": 8,
   "id": "325a9ff3-7c58-4ab1-90c8-73447e3ccf84",
   "metadata": {},
   "outputs": [],
   "source": [
    "front = shp.LineString(shape['geometry'][1])"
   ]
  },
  {
   "cell_type": "code",
   "execution_count": 16,
   "id": "569fb87d-6750-436a-a333-5ebdae6dcc38",
   "metadata": {},
   "outputs": [
    {
     "name": "stdout",
     "output_type": "stream",
     "text": [
      "1080\n",
      "1166400\n"
     ]
    }
   ],
   "source": [
    "x_coord = front.xy[0]\n",
    "y_coord = front.xy[1]\n",
    "print(len(x_coord))\n",
    "\n",
    "x_coord, y_coord = np.meshgrid(x_coord, y_coord)\n",
    "\n",
    "length = len(x_coord) * len(y_coord)\n",
    "print(length)\n",
    "      \n",
    "z = [1] * length\n",
    "z = np.array(z)\n",
    "z = z.reshape((len(x_coord), len(y_coord)))"
   ]
  },
  {
   "cell_type": "code",
   "execution_count": 42,
   "id": "94653ef7-b667-4ad4-96e0-95e9bc7d0e4f",
   "metadata": {},
   "outputs": [
    {
     "name": "stdout",
     "output_type": "stream",
     "text": [
      "Subtropical front\n"
     ]
    },
    {
     "ename": "AttributeError",
     "evalue": "'MultiLineString' object has no attribute 'x'",
     "output_type": "error",
     "traceback": [
      "\u001b[0;31m---------------------------------------------------------------------------\u001b[0m",
      "\u001b[0;31mAttributeError\u001b[0m                            Traceback (most recent call last)",
      "\u001b[0;32m/tmp/ipykernel_4371/3236241515.py\u001b[0m in \u001b[0;36m<module>\u001b[0;34m\u001b[0m\n\u001b[1;32m      1\u001b[0m \u001b[0;32mfor\u001b[0m \u001b[0mindex\u001b[0m\u001b[0;34m,\u001b[0m \u001b[0mrow\u001b[0m \u001b[0;32min\u001b[0m \u001b[0mshape\u001b[0m\u001b[0;34m.\u001b[0m\u001b[0miterrows\u001b[0m\u001b[0;34m(\u001b[0m\u001b[0;34m)\u001b[0m\u001b[0;34m:\u001b[0m\u001b[0;34m\u001b[0m\u001b[0;34m\u001b[0m\u001b[0m\n\u001b[1;32m      2\u001b[0m     \u001b[0mprint\u001b[0m\u001b[0;34m(\u001b[0m\u001b[0mrow\u001b[0m\u001b[0;34m[\u001b[0m\u001b[0;34m'name'\u001b[0m\u001b[0;34m]\u001b[0m\u001b[0;34m)\u001b[0m\u001b[0;34m\u001b[0m\u001b[0;34m\u001b[0m\u001b[0m\n\u001b[0;32m----> 3\u001b[0;31m     \u001b[0mrow\u001b[0m\u001b[0;34m[\u001b[0m\u001b[0;34m'x'\u001b[0m\u001b[0;34m]\u001b[0m \u001b[0;34m=\u001b[0m \u001b[0mrow\u001b[0m\u001b[0;34m[\u001b[0m\u001b[0;34m'geometry'\u001b[0m\u001b[0;34m]\u001b[0m\u001b[0;34m.\u001b[0m\u001b[0mx\u001b[0m\u001b[0;34m\u001b[0m\u001b[0;34m\u001b[0m\u001b[0m\n\u001b[0m",
      "\u001b[0;31mAttributeError\u001b[0m: 'MultiLineString' object has no attribute 'x'"
     ]
    }
   ],
   "source": [
    "for index, row in shape.iterrows():\n",
    "    print(row['name'])\n",
    "    front = row['geometry']"
   ]
  },
  {
   "cell_type": "markdown",
   "id": "73bbecef-4402-4f40-9e8e-9b354a5f7fb4",
   "metadata": {
    "jp-MarkdownHeadingCollapsed": true,
    "tags": []
   },
   "source": [
    "## Correlation\n"
   ]
  },
  {
   "cell_type": "markdown",
   "id": "e5ef3b51-c863-48b2-96aa-c816d7bb36b5",
   "metadata": {},
   "source": [
    "### Temporal correlation"
   ]
  },
  {
   "cell_type": "code",
   "execution_count": 18,
   "id": "466141bd-9941-45fa-9436-6e9b8a922475",
   "metadata": {},
   "outputs": [],
   "source": [
    "npp = nct.open_data(\"Data/intpp_{}_{}.nc\".format(model, experiment))\n",
    "\n",
    "exp = nct.open_data(\"Data/epc100_{}_{}.nc\".format(model, experiment))\n"
   ]
  },
  {
   "cell_type": "code",
   "execution_count": 13,
   "id": "424b9a81-fcc3-4dbf-9c24-3d4f03ca5140",
   "metadata": {},
   "outputs": [
    {
     "data": {
      "text/plain": [
       "['Data/intpp_CESM2_esm-ssp585.nc']"
      ]
     },
     "execution_count": 13,
     "metadata": {},
     "output_type": "execute_result"
    }
   ],
   "source": [
    "npp.current"
   ]
  },
  {
   "cell_type": "code",
   "execution_count": 19,
   "id": "83cc1237-56cd-468a-9f88-c1a36d861f64",
   "metadata": {},
   "outputs": [],
   "source": [
    "cor = nct.cor_time(npp, exp)\n",
    "#cor.reduce_dims()\n",
    "cor.to_nc(\"Data/correlation_time.nc\", overwrite = True)"
   ]
  },
  {
   "cell_type": "code",
   "execution_count": 20,
   "id": "240846cd-4668-46f2-8017-01819376a65e",
   "metadata": {},
   "outputs": [
    {
     "name": "stdout",
     "output_type": "stream",
     "text": [
      "{'time': <class 'netCDF4._netCDF4.Variable'>\n",
      "float64 time(time)\n",
      "    standard_name: time\n",
      "    bounds: time_bnds\n",
      "    units: days since 0001-01-01 00:00:00\n",
      "    calendar: 365_day\n",
      "    axis: T\n",
      "unlimited dimensions: time\n",
      "current shape = (1,)\n",
      "filling off, 'time_bnds': <class 'netCDF4._netCDF4.Variable'>\n",
      "float64 time_bnds(time, bnds)\n",
      "unlimited dimensions: time\n",
      "current shape = (1, 2)\n",
      "filling off, 'lon': <class 'netCDF4._netCDF4.Variable'>\n",
      "float64 lon(lon)\n",
      "    standard_name: longitude\n",
      "    long_name: Longitude\n",
      "    units: degrees_east\n",
      "    axis: X\n",
      "unlimited dimensions: \n",
      "current shape = (361,)\n",
      "filling off, 'lat': <class 'netCDF4._netCDF4.Variable'>\n",
      "float64 lat(lat)\n",
      "    standard_name: latitude\n",
      "    long_name: Latitude\n",
      "    units: degrees_north\n",
      "    axis: Y\n",
      "unlimited dimensions: \n",
      "current shape = (181,)\n",
      "filling off, 'cor': <class 'netCDF4._netCDF4.Variable'>\n",
      "float32 cor(time, lat, lon)\n",
      "    standard_name: net_primary_mole_productivity_of_biomass_expressed_as_carbon_by_phytoplankton\n",
      "    long_name: Primary Organic Carbon Production by All Types of Phytoplankton\n",
      "    units: mol m-2 s-1\n",
      "    _FillValue: 1e+20\n",
      "    missing_value: 1e+20\n",
      "    cell_measures: area: areacello\n",
      "    cell_methods: area: mean where sea depth: sum where sea time: mean\n",
      "    comment: photoC_TOT_zint\n",
      "    description: Vertically integrated total primary (organic carbon) production by phytoplankton.  This should equal the sum of intpdiat+intpphymisc, but those individual components may be unavailable in some models.\n",
      "    frequency: mon\n",
      "    id: intpp\n",
      "    mipTable: Omon\n",
      "    out_name: intpp\n",
      "    prov: Omon ((isd.003))\n",
      "    realm: ocnBgchem\n",
      "    time: time\n",
      "    time_label: time-mean\n",
      "    time_title: Temporal mean\n",
      "    title: Primary Organic Carbon Production by All Types of Phytoplankton\n",
      "    type: real\n",
      "    variable_id: intpp\n",
      "    institution: NCAR\n",
      "unlimited dimensions: time\n",
      "current shape = (1, 181, 361)\n",
      "filling off}\n",
      "181 361\n",
      "(181, 361)\n",
      "0.9961319 0.5395001\n"
     ]
    }
   ],
   "source": [
    "nc = Dataset(\"Data/correlation_time.nc\")\n",
    "print(nc.variables)\n",
    "\n",
    "lat = nc.variables['lat'][:] # [:] means all elements inside the list\n",
    "lon = nc.variables['lon'][:]\n",
    "print(len(lat), len(lon))\n",
    "\n",
    "var = nc.variables ['cor'][:]\n",
    "\n",
    "var = np.nanmean(var, axis = 0)\n",
    "print(var.shape)\n",
    "var_max = np.amax(var)\n",
    "var_min = np.amin(var)\n",
    "print(var_max, var_min)\n",
    "\n",
    "\n",
    "var, lon = add_cyclic_point(var, coord=lon)\n",
    "\n",
    "x, y = np.meshgrid(lon, lat)"
   ]
  },
  {
   "cell_type": "code",
   "execution_count": 21,
   "id": "15010cb9-ddc5-4546-8031-0872e0fb03f6",
   "metadata": {},
   "outputs": [
    {
     "data": {
      "image/png": "[encoded data removed]",
      "text/plain": [
       "<Figure size 432x288 with 2 Axes>"
      ]
     },
     "metadata": {
      "needs_background": "light"
     },
     "output_type": "display_data"
    }
   ],
   "source": [
    "ax = plt.axes(projection=cartopy.crs.Orthographic(central_longitude = 0, \n",
    "                                                  central_latitude=-90))\n",
    "\n",
    "plt.title(\"Temporal correlation between NPP and export\")\n",
    "\n",
    "#ax.add_feature(cartopy.feature.LAND)\n",
    "#ax.add_feature(cartopy.feature.OCEAN)\n",
    "#ax.add_feature(cartopy.feature.COASTLINE)\n",
    "\n",
    "#divnorm = colors.TwoSlopeNorm(vmin = var_min, vcenter = 0., vmax = var_max)\n",
    "\n",
    "p = ax.pcolor(x, y, var, \n",
    "              cmap = 'viridis', transform = cartopy.crs.PlateCarree() )\n",
    "\n",
    "cb = plt.colorbar(p, shrink=0.8, pad = 0.1)\n",
    "\n",
    "gl = ax.gridlines(crs = cartopy.crs.PlateCarree(),\n",
    "                  draw_labels = True,\n",
    "                  color = 'grey',\n",
    "                  linestyle = '--') \n",
    "\n",
    "ax.coastlines()\n",
    "\n",
    "plt.savefig(\"output/Temporal Correlation.png\".format(variable, model, experiment))\n",
    "\n",
    "plt.show()"
   ]
  },
  {
   "cell_type": "markdown",
   "id": "7b7de110-7fdf-4033-83e1-8325a4b0eeae",
   "metadata": {},
   "source": [
    "### Spatial correlation\n"
   ]
  },
  {
   "cell_type": "code",
   "execution_count": 5,
   "id": "123c6885-859f-40cb-b290-0ac268634e3f",
   "metadata": {
    "tags": []
   },
   "outputs": [],
   "source": [
    "npp = nct.open_data(\"Data/intpp_{}_{}.nc\".format(model, experiment))\n",
    "exp = nct.open_data(\"Data/epc100_{}_{}.nc\".format(model, experiment))\n",
    "\n",
    "npp.crop(lon = [-180, 180], lat = [-90, -40])\n",
    "exp.crop(lon = [-180, 180], lat = [-90, -40])"
   ]
  },
  {
   "cell_type": "code",
   "execution_count": 7,
   "id": "4bd63f41-2e4e-43b6-a508-053a2759b7aa",
   "metadata": {},
   "outputs": [],
   "source": [
    "cor = nct.cor_space(npp, exp)\n",
    "\n",
    "cor.to_nc(\"Data/correlation_space.nc\", overwrite = True)"
   ]
  },
  {
   "cell_type": "code",
   "execution_count": 8,
   "id": "6670c541-d1aa-4aef-b069-6257ef21d335",
   "metadata": {},
   "outputs": [],
   "source": [
    "cor = nct.open_data(\"Data/correlation_space.nc\")\n",
    "cor.contents\n",
    "cor.tmean(\"year\")\n",
    "time = cor.years\n",
    "\n",
    "cor.to_nc(\"Data/correlation_over_time.nc\", overwrite = True)"
   ]
  },
  {
   "cell_type": "code",
   "execution_count": 9,
   "id": "b4b924d4-8b9b-4b1f-aefd-74167552d1ae",
   "metadata": {},
   "outputs": [
    {
     "name": "stdout",
     "output_type": "stream",
     "text": [
      "{'time': <class 'netCDF4._netCDF4.Variable'>\n",
      "float64 time(time)\n",
      "    standard_name: time\n",
      "    bounds: time_bnds\n",
      "    units: days since 0001-01-01 00:00:00\n",
      "    calendar: 365_day\n",
      "    axis: T\n",
      "unlimited dimensions: time\n",
      "current shape = (86,)\n",
      "filling off, 'time_bnds': <class 'netCDF4._netCDF4.Variable'>\n",
      "float64 time_bnds(time, bnds)\n",
      "unlimited dimensions: time\n",
      "current shape = (86, 2)\n",
      "filling off, 'lon': <class 'netCDF4._netCDF4.Variable'>\n",
      "float64 lon(lon)\n",
      "    standard_name: longitude\n",
      "    long_name: longitude\n",
      "    units: degrees_east\n",
      "    axis: X\n",
      "unlimited dimensions: \n",
      "current shape = (1,)\n",
      "filling off, 'lat': <class 'netCDF4._netCDF4.Variable'>\n",
      "float64 lat(lat)\n",
      "    standard_name: latitude\n",
      "    long_name: latitude\n",
      "    units: degrees_north\n",
      "    axis: Y\n",
      "unlimited dimensions: \n",
      "current shape = (1,)\n",
      "filling off, 'cor': <class 'netCDF4._netCDF4.Variable'>\n",
      "float32 cor(time, lat, lon)\n",
      "    standard_name: net_primary_mole_productivity_of_biomass_expressed_as_carbon_by_phytoplankton\n",
      "    long_name: Primary Organic Carbon Production by All Types of Phytoplankton\n",
      "    units: mol m-2 s-1\n",
      "    _FillValue: 1e+20\n",
      "    missing_value: 1e+20\n",
      "    cell_methods: area: mean where sea depth: sum where sea time: mean\n",
      "    cell_measures: area: areacello\n",
      "    comment: photoC_TOT_zint\n",
      "    description: Vertically integrated total primary (organic carbon) production by phytoplankton.  This should equal the sum of intpdiat+intpphymisc, but those individual components may be unavailable in some models.\n",
      "    frequency: mon\n",
      "    id: intpp\n",
      "    mipTable: Omon\n",
      "    out_name: intpp\n",
      "    prov: Omon ((isd.003))\n",
      "    realm: ocnBgchem\n",
      "    time: time\n",
      "    time_label: time-mean\n",
      "    time_title: Temporal mean\n",
      "    title: Primary Organic Carbon Production by All Types of Phytoplankton\n",
      "    type: real\n",
      "    variable_id: intpp\n",
      "    institution: NCAR\n",
      "unlimited dimensions: time\n",
      "current shape = (86, 1, 1)\n",
      "filling off}\n",
      "[[[0.93958294]]\n",
      "\n",
      " [[0.93926   ]]\n",
      "\n",
      " [[0.93978584]]\n",
      "\n",
      " [[0.9439532 ]]\n",
      "\n",
      " [[0.94091064]]\n",
      "\n",
      " [[0.9419727 ]]\n",
      "\n",
      " [[0.943313  ]]\n",
      "\n",
      " [[0.9437786 ]]\n",
      "\n",
      " [[0.94270056]]\n",
      "\n",
      " [[0.94276357]]\n",
      "\n",
      " [[0.9401413 ]]\n",
      "\n",
      " [[0.94006294]]\n",
      "\n",
      " [[0.94264984]]\n",
      "\n",
      " [[0.9401509 ]]\n",
      "\n",
      " [[0.9432082 ]]\n",
      "\n",
      " [[0.9419841 ]]\n",
      "\n",
      " [[0.9386457 ]]\n",
      "\n",
      " [[0.941161  ]]\n",
      "\n",
      " [[0.9455643 ]]\n",
      "\n",
      " [[0.94263256]]\n",
      "\n",
      " [[0.9410884 ]]\n",
      "\n",
      " [[0.9374459 ]]\n",
      "\n",
      " [[0.94073   ]]\n",
      "\n",
      " [[0.94024223]]\n",
      "\n",
      " [[0.93948734]]\n",
      "\n",
      " [[0.9433429 ]]\n",
      "\n",
      " [[0.941995  ]]\n",
      "\n",
      " [[0.9420253 ]]\n",
      "\n",
      " [[0.9436702 ]]\n",
      "\n",
      " [[0.9435615 ]]\n",
      "\n",
      " [[0.9457113 ]]\n",
      "\n",
      " [[0.94298035]]\n",
      "\n",
      " [[0.9438395 ]]\n",
      "\n",
      " [[0.9387445 ]]\n",
      "\n",
      " [[0.9422136 ]]\n",
      "\n",
      " [[0.94570756]]\n",
      "\n",
      " [[0.9408996 ]]\n",
      "\n",
      " [[0.9395653 ]]\n",
      "\n",
      " [[0.94062734]]\n",
      "\n",
      " [[0.94471306]]\n",
      "\n",
      " [[0.94418895]]\n",
      "\n",
      " [[0.9460064 ]]\n",
      "\n",
      " [[0.9427622 ]]\n",
      "\n",
      " [[0.94481564]]\n",
      "\n",
      " [[0.94391775]]\n",
      "\n",
      " [[0.9466423 ]]\n",
      "\n",
      " [[0.9442835 ]]\n",
      "\n",
      " [[0.9464428 ]]\n",
      "\n",
      " [[0.9394869 ]]\n",
      "\n",
      " [[0.94459987]]\n",
      "\n",
      " [[0.9433778 ]]\n",
      "\n",
      " [[0.93997085]]\n",
      "\n",
      " [[0.9449586 ]]\n",
      "\n",
      " [[0.94311416]]\n",
      "\n",
      " [[0.9423116 ]]\n",
      "\n",
      " [[0.9435595 ]]\n",
      "\n",
      " [[0.94215536]]\n",
      "\n",
      " [[0.93784046]]\n",
      "\n",
      " [[0.9428911 ]]\n",
      "\n",
      " [[0.94659775]]\n",
      "\n",
      " [[0.94386035]]\n",
      "\n",
      " [[0.94307745]]\n",
      "\n",
      " [[0.94571644]]\n",
      "\n",
      " [[0.932822  ]]\n",
      "\n",
      " [[0.9419463 ]]\n",
      "\n",
      " [[0.94449306]]\n",
      "\n",
      " [[0.9359331 ]]\n",
      "\n",
      " [[0.93535775]]\n",
      "\n",
      " [[0.9374308 ]]\n",
      "\n",
      " [[0.940897  ]]\n",
      "\n",
      " [[0.9459801 ]]\n",
      "\n",
      " [[0.941493  ]]\n",
      "\n",
      " [[0.941081  ]]\n",
      "\n",
      " [[0.94243735]]\n",
      "\n",
      " [[0.9402666 ]]\n",
      "\n",
      " [[0.9395436 ]]\n",
      "\n",
      " [[0.93826157]]\n",
      "\n",
      " [[0.94352835]]\n",
      "\n",
      " [[0.9394946 ]]\n",
      "\n",
      " [[0.9377207 ]]\n",
      "\n",
      " [[0.9407147 ]]\n",
      "\n",
      " [[0.9386174 ]]\n",
      "\n",
      " [[0.9410301 ]]\n",
      "\n",
      " [[0.9390591 ]]\n",
      "\n",
      " [[0.9426111 ]]\n",
      "\n",
      " [[0.93487525]]]\n",
      "[0.93958294 0.93926    0.93978584 0.9439532  0.94091064 0.9419727\n",
      " 0.943313   0.9437786  0.94270056 0.94276357 0.9401413  0.94006294\n",
      " 0.94264984 0.9401509  0.9432082  0.9419841  0.9386457  0.941161\n",
      " 0.9455643  0.94263256 0.9410884  0.9374459  0.94073    0.94024223\n",
      " 0.93948734 0.9433429  0.941995   0.9420253  0.9436702  0.9435615\n",
      " 0.9457113  0.94298035 0.9438395  0.9387445  0.9422136  0.94570756\n",
      " 0.9408996  0.9395653  0.94062734 0.94471306 0.94418895 0.9460064\n",
      " 0.9427622  0.94481564 0.94391775 0.9466423  0.9442835  0.9464428\n",
      " 0.9394869  0.94459987 0.9433778  0.93997085 0.9449586  0.94311416\n",
      " 0.9423116  0.9435595  0.94215536 0.93784046 0.9428911  0.94659775\n",
      " 0.94386035 0.94307745 0.94571644 0.932822   0.9419463  0.94449306\n",
      " 0.9359331  0.93535775 0.9374308  0.940897   0.9459801  0.941493\n",
      " 0.941081   0.94243735 0.9402666  0.9395436  0.93826157 0.94352835\n",
      " 0.9394946  0.9377207  0.9407147  0.9386174  0.9410301  0.9390591\n",
      " 0.9426111  0.93487525]\n",
      "(86,)\n"
     ]
    }
   ],
   "source": [
    "cor = nct.open_data(\"Data/correlation_over_time.nc\")\n",
    "time = cor.years\n",
    "\n",
    "nc = Dataset(\"Data/correlation_over_time.nc\")\n",
    "print(nc.variables)\n",
    "\n",
    "var = nc.variables ['cor'][:]\n",
    "\n",
    "print(var)\n",
    "var = np.nanmean(var, axis = 1)\n",
    "var = np.nanmean(var, axis = 1)\n",
    "print(var)\n",
    "print(var.shape)"
   ]
  },
  {
   "cell_type": "code",
   "execution_count": 10,
   "id": "c0056fd7-5e8c-49b3-8209-896c3729fbb8",
   "metadata": {},
   "outputs": [
    {
     "data": {
      "image/png": "[encoded data removed]",
      "text/plain": [
       "<Figure size 432x288 with 1 Axes>"
      ]
     },
     "metadata": {
      "needs_background": "light"
     },
     "output_type": "display_data"
    }
   ],
   "source": [
    "fig, ax = plt.subplots()\n",
    "\n",
    "ax.plot(time, var, 'k')\n",
    "ax.title.set_text(\"Spatial Correlation between NPP and export\")\n",
    "\n",
    "ax.set_xlabel('xlabel', fontdict=dict(weight='bold'))\n",
    "ax.set_ylabel('xlabel', fontdict=dict(weight='bold'))\n",
    "\n",
    "plt.ylabel(\"Pearson's correlation\")\n",
    "plt.xlabel(\"Year\")\n",
    "\n",
    "plt.savefig(\"Correlation between NPP and export.png\".format(variable, model, experiment))\n",
    "\n",
    "plt.show()"
   ]
  },
  {
   "cell_type": "markdown",
   "id": "cdb54587-9d8d-437c-b7cd-a435b2541a0b",
   "metadata": {
    "tags": []
   },
   "source": [
    "## Difference\n"
   ]
  },
  {
   "cell_type": "markdown",
   "id": "46f644ed-fee3-46d7-9d49-630f5c04eb26",
   "metadata": {
    "jp-MarkdownHeadingCollapsed": true,
    "tags": []
   },
   "source": [
    "### Calculation\n"
   ]
  },
  {
   "cell_type": "code",
   "execution_count": 16,
   "id": "08bb6c54-687f-4759-9d53-18f2a32e5fac",
   "metadata": {},
   "outputs": [
    {
     "name": "stderr",
     "output_type": "stream",
     "text": [
      "/opt/jaspy/lib/python3.8/site-packages/xarray/conventions.py:512: SerializationWarning: variable 'intpp' has multiple fill values {1e+20, 1e+20}, decoding all values to NaN.\n",
      "/opt/jaspy/lib/python3.8/site-packages/xarray/conventions.py:512: SerializationWarning: variable 'intpp' has multiple fill values {1e+20, 1e+20}, decoding all values to NaN.\n"
     ]
    },
    {
     "name": "stdout",
     "output_type": "stream",
     "text": [
      "  variable  ntimes  npoints  nlevels  \\\n",
      "0    intpp    1980   122880        1   \n",
      "\n",
      "                                           long_name         unit data_type  \n",
      "0  Primary Organic Carbon Production by All Types...  mol m-2 s-1      F32z  \n"
     ]
    },
    {
     "name": "stderr",
     "output_type": "stream",
     "text": [
      "/opt/jaspy/lib/python3.8/site-packages/xarray/conventions.py:512: SerializationWarning: variable 'intpp' has multiple fill values {1e+20, 1e+20}, decoding all values to NaN.\n"
     ]
    },
    {
     "name": "stdout",
     "output_type": "stream",
     "text": [
      "  variable  ntimes  npoints  nlevels  \\\n",
      "0    intpp    1032    65341        1   \n",
      "\n",
      "                                           long_name         unit data_type  \n",
      "0  Primary Organic Carbon Production by All Types...  mol m-2 s-1      F32z  \n"
     ]
    },
    {
     "name": "stderr",
     "output_type": "stream",
     "text": [
      "/home/users/zy1921/.local/lib/python3.8/site-packages/nctoolkit/add_etc.py:92: UserWarning: Use CDO>=1.9.10 for smarter operations\n"
     ]
    }
   ],
   "source": [
    "# historial experiment \n",
    "\n",
    "historical = nct.open_data(\"Data/Raw/intpp_Omon_CESM2_historical_r1i1p1f1_gn_185001-201412.nc\")\n",
    "print(historical.contents)\n",
    "\n",
    "historical.to_latlon(lon = [-180, 180], lat = [-90, 90], res = [1,1])\n",
    "historical.subset(year = range(1994, 2014))\n",
    "\n",
    "historical.tmean()\n",
    "\n",
    "\n",
    "\n",
    "new = nct.open_data(\"Data/{}_{}_{}.nc\".format(variable, model, experiment))\n",
    "print(new.contents)\n",
    "\n",
    "new.subset(year = range(2080, 2100))\n",
    "new.tmean()\n",
    "\n",
    "\n",
    "\n",
    "new.subtract(historical)\n",
    "\n",
    "new.reduce_dims()\n",
    "new.to_nc(\"Data/{}_{}_difference.nc\".format(variable, model), overwrite = True)\n"
   ]
  },
  {
   "cell_type": "code",
   "execution_count": 14,
   "id": "c2a596a4-3a0e-43cd-bb97-7e7d5364e8da",
   "metadata": {},
   "outputs": [
    {
     "name": "stderr",
     "output_type": "stream",
     "text": [
      "/opt/jaspy/lib/python3.8/site-packages/xarray/conventions.py:512: SerializationWarning: variable 'intpp' has multiple fill values {1e+20, 1e+20}, decoding all values to NaN.\n",
      "/opt/jaspy/lib/python3.8/site-packages/xarray/conventions.py:512: SerializationWarning: variable 'intpp' has multiple fill values {1e+20, 1e+20}, decoding all values to NaN.\n"
     ]
    },
    {
     "name": "stdout",
     "output_type": "stream",
     "text": [
      "  variable  ntimes  npoints  nlevels  \\\n",
      "0    intpp    1980   122880        1   \n",
      "\n",
      "                                           long_name         unit data_type  \n",
      "0  Primary Organic Carbon Production by All Types...  mol m-2 s-1      F32z  \n"
     ]
    },
    {
     "name": "stderr",
     "output_type": "stream",
     "text": [
      "/opt/jaspy/lib/python3.8/site-packages/xarray/conventions.py:512: SerializationWarning: variable 'intpp' has multiple fill values {1e+20, 1e+20}, decoding all values to NaN.\n"
     ]
    }
   ],
   "source": [
    "historical = nct.open_data(\"Data/Raw/intpp_Omon_CESM2_historical_r1i1p1f1_gn_185001-201412.nc\")\n",
    "print(historical.contents)\n",
    "\n",
    "historical.to_latlon(lon = [-180, 180], lat = [-90, 90], res = [1,1])\n",
    "historical.subset(year = range(1994, 2014))\n",
    "\n",
    "historical.tmean()\n",
    "\n",
    "historical.to_nc(\"Data/{}_{}_historical_20y.nc\".format(variable, model), overwrite = True)"
   ]
  },
  {
   "cell_type": "code",
   "execution_count": 11,
   "id": "8f4a8073-cfbe-45fb-badc-8d1490eb682b",
   "metadata": {},
   "outputs": [
    {
     "name": "stdout",
     "output_type": "stream",
     "text": [
      "  variable  ntimes  npoints  nlevels  \\\n",
      "0    intpp    1032    65341        1   \n",
      "\n",
      "                                           long_name         unit data_type  \n",
      "0  Primary Organic Carbon Production by All Types...  mol m-2 s-1      F32z  \n"
     ]
    }
   ],
   "source": [
    "new = nct.open_data(\"Data/{}_{}_{}.nc\".format(variable, model, experiment))\n",
    "print(new.contents)\n",
    "\n",
    "new.subset(year = range(2080, 2100))\n",
    "new.tmean()\n",
    "\n",
    "new.to_nc(\"Data/{}_{}_{}_20y.nc\".format(variable, model, experiment), overwrite = True)"
   ]
  },
  {
   "cell_type": "code",
   "execution_count": 17,
   "id": "f985ed0d-8256-4c46-b58e-4a3c7cbd3531",
   "metadata": {
    "tags": []
   },
   "outputs": [
    {
     "name": "stdout",
     "output_type": "stream",
     "text": [
      "{'time': <class 'netCDF4._netCDF4.Variable'>\n",
      "float64 time(time)\n",
      "    standard_name: time\n",
      "    bounds: time_bnds\n",
      "    units: days since 0001-01-01 00:00:00\n",
      "    calendar: 365_day\n",
      "    axis: T\n",
      "unlimited dimensions: time\n",
      "current shape = (1,)\n",
      "filling off, 'time_bnds': <class 'netCDF4._netCDF4.Variable'>\n",
      "float64 time_bnds(time, bnds)\n",
      "unlimited dimensions: time\n",
      "current shape = (1, 2)\n",
      "filling off, 'lon': <class 'netCDF4._netCDF4.Variable'>\n",
      "float64 lon(lon)\n",
      "    standard_name: longitude\n",
      "    long_name: Longitude\n",
      "    units: degrees_east\n",
      "    axis: X\n",
      "unlimited dimensions: \n",
      "current shape = (361,)\n",
      "filling off, 'lat': <class 'netCDF4._netCDF4.Variable'>\n",
      "float64 lat(lat)\n",
      "    standard_name: latitude\n",
      "    long_name: Latitude\n",
      "    units: degrees_north\n",
      "    axis: Y\n",
      "unlimited dimensions: \n",
      "current shape = (181,)\n",
      "filling off, 'intpp': <class 'netCDF4._netCDF4.Variable'>\n",
      "float32 intpp(time, lat, lon)\n",
      "    standard_name: net_primary_mole_productivity_of_biomass_expressed_as_carbon_by_phytoplankton\n",
      "    long_name: Primary Organic Carbon Production by All Types of Phytoplankton\n",
      "    units: mol m-2 s-1\n",
      "    _FillValue: 1e+20\n",
      "    missing_value: 1e+20\n",
      "    cell_methods: area: mean where sea depth: sum where sea time: mean\n",
      "    cell_measures: area: areacello\n",
      "    comment: Vertically integrated total primary (organic carbon) production by phytoplankton.  This should equal the sum of intpdiat+intpphymisc, but those individual components may be unavailable in some models.\n",
      "    description: Vertically integrated total primary (organic carbon) production by phytoplankton.  This should equal the sum of intpdiat+intpphymisc, but those individual components may be unavailable in some models.\n",
      "    frequency: mon\n",
      "    id: intpp\n",
      "    mipTable: Omon\n",
      "    out_name: intpp\n",
      "    prov: Omon ((isd.003))\n",
      "    realm: ocnBgchem\n",
      "    time: time\n",
      "    time_label: time-mean\n",
      "    time_title: Temporal mean\n",
      "    title: Primary Organic Carbon Production by All Types of Phytoplankton\n",
      "    type: real\n",
      "    variable_id: intpp\n",
      "    institution: NCAR\n",
      "unlimited dimensions: time\n",
      "current shape = (1, 181, 361)\n",
      "filling off}\n",
      "[[[-- -- -- ... -- -- --]\n",
      "  [-- -- -- ... -- -- --]\n",
      "  [-- -- -- ... -- -- --]\n",
      "  ...\n",
      "  [4.26136459452664e-08 4.260090591401422e-08 4.2587856796671986e-08 ...\n",
      "   4.262842168145653e-08 4.262234654106578e-08 4.26136459452664e-08]\n",
      "  [4.3878834787847154e-08 4.3881975386739214e-08 4.388527230503314e-08\n",
      "   ... 4.387301899555496e-08 4.387585050835696e-08\n",
      "   4.3878834787847154e-08]\n",
      "  [4.473504944257911e-08 4.473504944257911e-08 4.473504944257911e-08 ...\n",
      "   4.473504944257911e-08 4.473504944257911e-08 4.473504944257911e-08]]]\n",
      "{'time': <class 'netCDF4._netCDF4.Variable'>\n",
      "float64 time(time)\n",
      "    standard_name: time\n",
      "    bounds: time_bnds\n",
      "    units: days since 0001-01-01 00:00:00\n",
      "    calendar: 365_day\n",
      "    axis: T\n",
      "unlimited dimensions: time\n",
      "current shape = (1,)\n",
      "filling off, 'time_bnds': <class 'netCDF4._netCDF4.Variable'>\n",
      "float64 time_bnds(time, bnds)\n",
      "unlimited dimensions: time\n",
      "current shape = (1, 2)\n",
      "filling off, 'lon': <class 'netCDF4._netCDF4.Variable'>\n",
      "float64 lon(lon)\n",
      "    standard_name: longitude\n",
      "    long_name: Longitude\n",
      "    units: degrees_east\n",
      "    axis: X\n",
      "unlimited dimensions: \n",
      "current shape = (361,)\n",
      "filling off, 'lat': <class 'netCDF4._netCDF4.Variable'>\n",
      "float64 lat(lat)\n",
      "    standard_name: latitude\n",
      "    long_name: Latitude\n",
      "    units: degrees_north\n",
      "    axis: Y\n",
      "unlimited dimensions: \n",
      "current shape = (181,)\n",
      "filling off, 'intpp': <class 'netCDF4._netCDF4.Variable'>\n",
      "float32 intpp(time, lat, lon)\n",
      "    standard_name: net_primary_mole_productivity_of_biomass_expressed_as_carbon_by_phytoplankton\n",
      "    long_name: Primary Organic Carbon Production by All Types of Phytoplankton\n",
      "    units: mol m-2 s-1\n",
      "    _FillValue: 1e+20\n",
      "    missing_value: 1e+20\n",
      "    cell_methods: area: mean where sea depth: sum where sea time: mean\n",
      "    cell_measures: area: areacello\n",
      "    comment: photoC_TOT_zint\n",
      "    description: Vertically integrated total primary (organic carbon) production by phytoplankton.  This should equal the sum of intpdiat+intpphymisc, but those individual components may be unavailable in some models.\n",
      "    frequency: mon\n",
      "    id: intpp\n",
      "    mipTable: Omon\n",
      "    out_name: intpp\n",
      "    prov: Omon ((isd.003))\n",
      "    realm: ocnBgchem\n",
      "    time: time\n",
      "    time_label: time-mean\n",
      "    time_title: Temporal mean\n",
      "    title: Primary Organic Carbon Production by All Types of Phytoplankton\n",
      "    type: real\n",
      "    variable_id: intpp\n",
      "    institution: NCAR\n",
      "unlimited dimensions: time\n",
      "current shape = (1, 181, 361)\n",
      "filling off}\n",
      "[[[-- -- -- ... -- -- --]\n",
      "  [-- -- -- ... -- -- --]\n",
      "  [-- -- -- ... -- -- --]\n",
      "  ...\n",
      "  [6.484279424512351e-08 6.483818992819579e-08 6.483816150648636e-08 ...\n",
      "   6.487398707122338e-08 6.485582559889735e-08 6.484279424512351e-08]\n",
      "  [6.666451213277469e-08 6.666964225132688e-08 6.667449525821212e-08 ...\n",
      "   6.665342056066947e-08 6.665910490255555e-08 6.666451213277469e-08]\n",
      "  [6.818595466029365e-08 6.818595466029365e-08 6.818595466029365e-08 ...\n",
      "   6.818595466029365e-08 6.818595466029365e-08 6.818595466029365e-08]]]\n",
      "{'lon': <class 'netCDF4._netCDF4.Variable'>\n",
      "float64 lon(lon)\n",
      "    standard_name: longitude\n",
      "    long_name: Longitude\n",
      "    units: degrees_east\n",
      "    axis: X\n",
      "unlimited dimensions: \n",
      "current shape = (361,)\n",
      "filling off, 'lat': <class 'netCDF4._netCDF4.Variable'>\n",
      "float64 lat(lat)\n",
      "    standard_name: latitude\n",
      "    long_name: Latitude\n",
      "    units: degrees_north\n",
      "    axis: Y\n",
      "unlimited dimensions: \n",
      "current shape = (181,)\n",
      "filling off, 'intpp': <class 'netCDF4._netCDF4.Variable'>\n",
      "float32 intpp(lat, lon)\n",
      "    standard_name: net_primary_mole_productivity_of_biomass_expressed_as_carbon_by_phytoplankton\n",
      "    long_name: Primary Organic Carbon Production by All Types of Phytoplankton\n",
      "    units: mol m-2 s-1\n",
      "    _FillValue: 1e+20\n",
      "    missing_value: 1e+20\n",
      "    cell_methods: area: mean where sea depth: sum where sea time: mean\n",
      "    cell_measures: area: areacello\n",
      "    comment: photoC_TOT_zint\n",
      "    description: Vertically integrated total primary (organic carbon) production by phytoplankton.  This should equal the sum of intpdiat+intpphymisc, but those individual components may be unavailable in some models.\n",
      "    frequency: mon\n",
      "    id: intpp\n",
      "    mipTable: Omon\n",
      "    out_name: intpp\n",
      "    prov: Omon ((isd.003))\n",
      "    realm: ocnBgchem\n",
      "    time: time\n",
      "    time_label: time-mean\n",
      "    time_title: Temporal mean\n",
      "    title: Primary Organic Carbon Production by All Types of Phytoplankton\n",
      "    type: real\n",
      "    variable_id: intpp\n",
      "    institution: NCAR\n",
      "unlimited dimensions: \n",
      "current shape = (181, 361)\n",
      "filling off}\n",
      "[[-- -- -- ... -- -- --]\n",
      " [-- -- -- ... -- -- --]\n",
      " [-- -- -- ... -- -- --]\n",
      " ...\n",
      " [2.2229148299857115e-08 2.223728401418157e-08 2.2250304709814372e-08 ...\n",
      "  2.2245565389766853e-08 2.2233479057831573e-08 2.2229148299857115e-08]\n",
      " [2.2785677344927535e-08 2.2787666864587663e-08 2.2789222953178978e-08\n",
      "  ... 2.2780401565114516e-08 2.2783254394198593e-08\n",
      "  2.2785677344927535e-08]\n",
      " [2.3450905217714535e-08 2.3450905217714535e-08 2.3450905217714535e-08\n",
      "  ... 2.3450905217714535e-08 2.3450905217714535e-08\n",
      "  2.3450905217714535e-08]]\n",
      "2.3352035e-07 -3.5686998e-07\n"
     ]
    }
   ],
   "source": [
    "new = Dataset(\"Data/{}_{}_historical_20y.nc\".format(variable, model, experiment))\n",
    "print(new.variables)\n",
    "var_new = new.variables [variable][:]\n",
    "print(var_new)\n",
    "\n",
    "new = Dataset(\"Data/{}_{}_{}_20y.nc\".format(variable, model, experiment))\n",
    "print(new.variables)\n",
    "var_new = new.variables [variable][:]\n",
    "print(var_new)\n",
    "\n",
    "difference = Dataset(\"Data/{}_{}_difference.nc\".format(variable, model), overwrite = True)\n",
    "print(difference.variables)\n",
    "\n",
    "var_dif = difference.variables [variable][:]\n",
    "print(var_dif)\n",
    "print(np.amax(var_dif), np.amin(var_dif))"
   ]
  },
  {
   "cell_type": "markdown",
   "id": "2bed21e8-8cc0-486e-9550-c1519489bf81",
   "metadata": {},
   "source": [
    "### Plotting"
   ]
  },
  {
   "cell_type": "code",
   "execution_count": 12,
   "id": "2cdaa20c-c8b0-49c7-b7fa-a5fbf49e7224",
   "metadata": {
    "tags": []
   },
   "outputs": [
    {
     "name": "stdout",
     "output_type": "stream",
     "text": [
      "181 361\n",
      "2.3352035e-07 -3.5686998e-07\n"
     ]
    }
   ],
   "source": [
    "nc = Dataset(\"Data/{}_{}_difference.nc\".format(variable, model), overwrite = True)\n",
    "#print(nc.variables)\n",
    "\n",
    "\n",
    "lat = nc.variables['lat'][:] # [:] means all elements inside the list\n",
    "lon = nc.variables['lon'][:]\n",
    "print(len(lat), len(lon))\n",
    "\n",
    "\n",
    "var = nc.variables [variable][:]\n",
    "var_max = np.amax(var)\n",
    "var_min = np.amin(var)\n",
    "print(var_max, var_min)\n",
    "\n",
    "\n",
    "var, lon = add_cyclic_point(var, coord=lon)\n",
    "\n",
    "x, y = np.meshgrid(lon, lat)"
   ]
  },
  {
   "cell_type": "code",
   "execution_count": 24,
   "id": "e8a3b436-e61e-4795-a5a1-03b704cb186d",
   "metadata": {},
   "outputs": [
    {
     "ename": "SyntaxError",
     "evalue": "invalid syntax (113229892.py, line 24)",
     "output_type": "error",
     "traceback": [
      "\u001b[0;36m  File \u001b[0;32m\"/tmp/ipykernel_5419/113229892.py\"\u001b[0;36m, line \u001b[0;32m24\u001b[0m\n\u001b[0;31m    ax.global()\u001b[0m\n\u001b[0m       ^\u001b[0m\n\u001b[0;31mSyntaxError\u001b[0m\u001b[0;31m:\u001b[0m invalid syntax\n"
     ]
    }
   ],
   "source": [
    "ax = plt.axes(projection=cartopy.crs.Orthographic(central_longitude = 0, \n",
    "                                                  central_latitude=-90))\n",
    "\n",
    "plt.title(\"Change in NPP (mol m-2 s-1) {} 1994-2100\".format(model, start))\n",
    "\n",
    "#ax.add_feature(cartopy.feature.LAND)\n",
    "#ax.add_feature(cartopy.feature.OCEAN)\n",
    "#ax.add_feature(cartopy.feature.COASTLINE)\n",
    "\n",
    "#divnorm = colors.TwoSlopeNorm(vmin = var_min, vcenter = 0., vmax = var_max)\n",
    "\n",
    "#p = ax.pcolor(x, y, var, \n",
    "          #    cmap = 'coolwarm', norm = divnorm, transform = cartopy.crs.PlateCarree() )\n",
    "\n",
    "#cb = plt.colorbar(p, shrink=0.8, pad = 0.1)\n",
    "\n",
    "#gl = ax.gridlines(crs = cartopy.crs.PlateCarree(),\n",
    "      #            draw_labels = True,\n",
    "     #             color = 'grey',\n",
    "       #           linestyle = '--', \n",
    "        #          y_inline = True) \n",
    "\n",
    "ax.coastlines()\n",
    "ax.global()\n",
    "\n",
    "ax.contour(x_coord, y_coord, z,\n",
    "           levels=1,\n",
    "           colors=['black'],\n",
    "           transform = cartopy.crs.PlateCarree())\n",
    "\n",
    "plt.savefig(\"output/{}_{}_{}_change.png\".format(variable, model, experiment))\n",
    "\n",
    "plt.show()"
   ]
  },
  {
   "cell_type": "markdown",
   "id": "9b12cdbd-173f-4866-84b9-173057f7dc82",
   "metadata": {
    "tags": []
   },
   "source": [
    "## Plotting map"
   ]
  },
  {
   "cell_type": "markdown",
   "id": "8001660d-400b-4478-8302-0474b7ba4fe6",
   "metadata": {
    "tags": []
   },
   "source": [
    "### Max/min value for plotting "
   ]
  },
  {
   "cell_type": "markdown",
   "id": "749e0a60-ca9e-4a6d-b620-7a2448188dce",
   "metadata": {
    "tags": []
   },
   "source": [
    "### Max/min value for plotting "
   ]
  },
  {
   "cell_type": "code",
   "execution_count": 6,
   "id": "d7a13f7f-5519-4bf1-92c5-0f03fbc29e12",
   "metadata": {},
   "outputs": [
    {
     "name": "stdout",
     "output_type": "stream",
     "text": [
      "3.774536e-06\n",
      "0.0\n"
     ]
    }
   ],
   "source": [
    "file = \"Data/{}_{}_{}.nc\".format(variable, model, experiment)\n",
    "nc = Dataset(file)\n",
    "\n",
    "var = nc.variables [variable][:]\n",
    "max_var = np.amax(var)\n",
    "min_var = np.amin(var)\n",
    "\n",
    "print(max_var)\n",
    "print(min_var)"
   ]
  },
  {
   "cell_type": "markdown",
   "id": "78dea889-fc01-43a7-84db-37f48563e70a",
   "metadata": {},
   "source": [
    "### 2015"
   ]
  },
  {
   "cell_type": "code",
   "execution_count": 7,
   "id": "1c59a1e3-332c-4f31-bc66-6ab92ef3d730",
   "metadata": {},
   "outputs": [],
   "source": [
    "data = nct.open_data(\"Data/{}_{}_{}.nc\".format(variable, model, experiment))\n",
    "data.select(year = start)\n",
    "data.tmean()\n",
    "data.to_nc(\"Data/{}_{}_{}_{}.nc\".format(variable, model, experiment, start), overwrite = True)"
   ]
  },
  {
   "cell_type": "code",
   "execution_count": 8,
   "id": "069f953f-094b-4cea-be00-00672a81b3b0",
   "metadata": {},
   "outputs": [
    {
     "name": "stdout",
     "output_type": "stream",
     "text": [
      "{'time': <class 'netCDF4._netCDF4.Variable'>\n",
      "float64 time(time)\n",
      "    standard_name: time\n",
      "    bounds: time_bnds\n",
      "    units: days since 0001-01-01 00:00:00\n",
      "    calendar: 365_day\n",
      "    axis: T\n",
      "unlimited dimensions: time\n",
      "current shape = (1,)\n",
      "filling off, 'time_bnds': <class 'netCDF4._netCDF4.Variable'>\n",
      "float64 time_bnds(time, bnds)\n",
      "unlimited dimensions: time\n",
      "current shape = (1, 2)\n",
      "filling off, 'lon': <class 'netCDF4._netCDF4.Variable'>\n",
      "float64 lon(lon)\n",
      "    standard_name: longitude\n",
      "    long_name: Longitude\n",
      "    units: degrees_east\n",
      "    axis: X\n",
      "unlimited dimensions: \n",
      "current shape = (361,)\n",
      "filling off, 'lat': <class 'netCDF4._netCDF4.Variable'>\n",
      "float64 lat(lat)\n",
      "    standard_name: latitude\n",
      "    long_name: Latitude\n",
      "    units: degrees_north\n",
      "    axis: Y\n",
      "unlimited dimensions: \n",
      "current shape = (181,)\n",
      "filling off, 'intpp': <class 'netCDF4._netCDF4.Variable'>\n",
      "float32 intpp(time, lat, lon)\n",
      "    standard_name: net_primary_mole_productivity_of_biomass_expressed_as_carbon_by_phytoplankton\n",
      "    long_name: Primary Organic Carbon Production by All Types of Phytoplankton\n",
      "    units: mol m-2 s-1\n",
      "    _FillValue: 1e+20\n",
      "    missing_value: 1e+20\n",
      "    cell_methods: area: mean where sea depth: sum where sea time: mean\n",
      "    cell_measures: area: areacello\n",
      "    comment: photoC_TOT_zint\n",
      "    description: Vertically integrated total primary (organic carbon) production by phytoplankton.  This should equal the sum of intpdiat+intpphymisc, but those individual components may be unavailable in some models.\n",
      "    frequency: mon\n",
      "    id: intpp\n",
      "    mipTable: Omon\n",
      "    out_name: intpp\n",
      "    prov: Omon ((isd.003))\n",
      "    realm: ocnBgchem\n",
      "    time: time\n",
      "    time_label: time-mean\n",
      "    time_title: Temporal mean\n",
      "    title: Primary Organic Carbon Production by All Types of Phytoplankton\n",
      "    type: real\n",
      "    variable_id: intpp\n",
      "    institution: NCAR\n",
      "unlimited dimensions: time\n",
      "current shape = (1, 181, 361)\n",
      "filling off}\n"
     ]
    }
   ],
   "source": [
    "file = \"Data/{}_{}_{}_{}.nc\".format(variable, model, experiment, start)\n",
    "nc = Dataset(file)\n",
    "print(nc.variables)"
   ]
  },
  {
   "cell_type": "code",
   "execution_count": 9,
   "id": "d47840c0-473c-4a50-b336-98204fd519b1",
   "metadata": {},
   "outputs": [
    {
     "name": "stdout",
     "output_type": "stream",
     "text": [
      "(181, 361)\n"
     ]
    }
   ],
   "source": [
    "lat = nc.variables['lat'][:] # [:] means all elements inside the list\n",
    "lon = nc.variables['lon'][:]\n",
    "var = nc.variables [variable][:]\n",
    "\n",
    "mean_var = np.nanmean(var, axis = 0) \n",
    "print(mean_var.shape) \n",
    "\n",
    "x, y = np.meshgrid(lon, lat)"
   ]
  },
  {
   "cell_type": "code",
   "execution_count": 10,
   "id": "c9d94db1-ebcb-4690-81af-85d7825aba84",
   "metadata": {},
   "outputs": [
    {
     "name": "stderr",
     "output_type": "stream",
     "text": [
      "shading='flat' when X and Y have the same dimensions as C is deprecated since 3.3.  Either specify the corners of the quadrilaterals with X and Y, or pass shading='auto', 'nearest' or 'gouraud', or set rcParams['pcolor.shading'].  This will become an error two minor releases later.\n"
     ]
    },
    {
     "data": {
      "image/png": "[encoded data removed]",
      "text/plain": [
       "<Figure size 432x288 with 2 Axes>"
      ]
     },
     "metadata": {
      "needs_background": "light"
     },
     "output_type": "display_data"
    }
   ],
   "source": [
    "ax = plt.axes(projection=cartopy.crs.Orthographic(central_longitude = 0, \n",
    "                                                  central_latitude=-90))\n",
    "\n",
    "plt.title(\"NPP (mol m-2 s-1) {} {}\".format(model, start))\n",
    "    \n",
    "ax.add_feature(cartopy.feature.LAND)\n",
    "ax.add_feature(cartopy.feature.OCEAN)\n",
    "ax.add_feature(cartopy.feature.COASTLINE)\n",
    "\n",
    "\n",
    "p = ax.pcolor(x, y, mean_var, vmax = max_var, vmin = min_var, \n",
    "              transform = cartopy.crs.PlateCarree() )\n",
    "\n",
    "cb = plt.colorbar(p, shrink=0.8, pad = 0.1)\n",
    "\n",
    "gl = ax.gridlines(crs = cartopy.crs.PlateCarree(),\n",
    "                  draw_labels = True,\n",
    "                  color = 'grey',\n",
    "                  linestyle = '--') \n",
    "\n",
    "\n",
    "plt.savefig(\"output/{}_{}_{}_{}.png\".format(variable, model, experiment, start))\n",
    "\n",
    "plt.show()\n"
   ]
  },
  {
   "cell_type": "markdown",
   "id": "36d521a9-e705-492c-86d5-b25a39c254b6",
   "metadata": {},
   "source": [
    "### 2100"
   ]
  },
  {
   "cell_type": "code",
   "execution_count": 11,
   "id": "47bf8e77-d896-496a-aa90-1741d2aeb234",
   "metadata": {},
   "outputs": [],
   "source": [
    "data = nct.open_data(\"Data/{}_{}_{}.nc\".format(variable, model, experiment))\n",
    "data.select(year = end)\n",
    "data.tmean()\n",
    "data.to_nc(\"Data/{}_{}_{}_{}.nc\".format(variable, model, experiment, end), overwrite = True)"
   ]
  },
  {
   "cell_type": "code",
   "execution_count": 12,
   "id": "d1549f0f-dc12-4c58-8531-74d666a8fcc0",
   "metadata": {},
   "outputs": [
    {
     "name": "stdout",
     "output_type": "stream",
     "text": [
      "{'time': <class 'netCDF4._netCDF4.Variable'>\n",
      "float64 time(time)\n",
      "    standard_name: time\n",
      "    bounds: time_bnds\n",
      "    units: days since 0001-01-01 00:00:00\n",
      "    calendar: 365_day\n",
      "    axis: T\n",
      "unlimited dimensions: time\n",
      "current shape = (1,)\n",
      "filling off, 'time_bnds': <class 'netCDF4._netCDF4.Variable'>\n",
      "float64 time_bnds(time, bnds)\n",
      "unlimited dimensions: time\n",
      "current shape = (1, 2)\n",
      "filling off, 'lon': <class 'netCDF4._netCDF4.Variable'>\n",
      "float64 lon(lon)\n",
      "    standard_name: longitude\n",
      "    long_name: Longitude\n",
      "    units: degrees_east\n",
      "    axis: X\n",
      "unlimited dimensions: \n",
      "current shape = (361,)\n",
      "filling off, 'lat': <class 'netCDF4._netCDF4.Variable'>\n",
      "float64 lat(lat)\n",
      "    standard_name: latitude\n",
      "    long_name: Latitude\n",
      "    units: degrees_north\n",
      "    axis: Y\n",
      "unlimited dimensions: \n",
      "current shape = (181,)\n",
      "filling off, 'intpp': <class 'netCDF4._netCDF4.Variable'>\n",
      "float32 intpp(time, lat, lon)\n",
      "    standard_name: net_primary_mole_productivity_of_biomass_expressed_as_carbon_by_phytoplankton\n",
      "    long_name: Primary Organic Carbon Production by All Types of Phytoplankton\n",
      "    units: mol m-2 s-1\n",
      "    _FillValue: 1e+20\n",
      "    missing_value: 1e+20\n",
      "    cell_methods: area: mean where sea depth: sum where sea time: mean\n",
      "    cell_measures: area: areacello\n",
      "    comment: photoC_TOT_zint\n",
      "    description: Vertically integrated total primary (organic carbon) production by phytoplankton.  This should equal the sum of intpdiat+intpphymisc, but those individual components may be unavailable in some models.\n",
      "    frequency: mon\n",
      "    id: intpp\n",
      "    mipTable: Omon\n",
      "    out_name: intpp\n",
      "    prov: Omon ((isd.003))\n",
      "    realm: ocnBgchem\n",
      "    time: time\n",
      "    time_label: time-mean\n",
      "    time_title: Temporal mean\n",
      "    title: Primary Organic Carbon Production by All Types of Phytoplankton\n",
      "    type: real\n",
      "    variable_id: intpp\n",
      "    institution: NCAR\n",
      "unlimited dimensions: time\n",
      "current shape = (1, 181, 361)\n",
      "filling off}\n"
     ]
    }
   ],
   "source": [
    "file = \"Data/{}_{}_{}_{}.nc\".format(variable, model, experiment, end)\n",
    "nc = Dataset(file)\n",
    "print(nc.variables)"
   ]
  },
  {
   "cell_type": "code",
   "execution_count": 13,
   "id": "2eb8182d-a155-4e7f-8b81-6df2c723d2b7",
   "metadata": {},
   "outputs": [
    {
     "name": "stdout",
     "output_type": "stream",
     "text": [
      "(181, 361)\n"
     ]
    }
   ],
   "source": [
    "lat = nc.variables['lat'][:] # [:] means all elements inside the list\n",
    "lon = nc.variables['lon'][:]\n",
    "var = nc.variables [variable][:]\n",
    "\n",
    "mean_var = np.nanmean(var, axis = 0) \n",
    "print(mean_var.shape) \n",
    "\n",
    "x, y = np.meshgrid(lon, lat)"
   ]
  },
  {
   "cell_type": "code",
   "execution_count": 14,
   "id": "7e234c63-751e-4734-810b-9553cfa5aab6",
   "metadata": {},
   "outputs": [
    {
     "data": {
      "image/png": "[encoded data removed]",
      "text/plain": [
       "<Figure size 432x288 with 2 Axes>"
      ]
     },
     "metadata": {
      "needs_background": "light"
     },
     "output_type": "display_data"
    }
   ],
   "source": [
    "ax = plt.axes(projection=cartopy.crs.Orthographic(central_longitude = 0, \n",
    "                                                  central_latitude=-90))\n",
    "\n",
    "plt.title(\"NPP (mol m-2 s-1) {} {}\".format(model, end))\n",
    "    \n",
    "ax.add_feature(cartopy.feature.LAND)\n",
    "ax.add_feature(cartopy.feature.OCEAN)\n",
    "ax.add_feature(cartopy.feature.COASTLINE)\n",
    "\n",
    "\n",
    "p = ax.pcolor(x, y, mean_var, vmax = max_var, vmin = min_var, \n",
    "              transform = cartopy.crs.PlateCarree() )\n",
    "\n",
    "cb = plt.colorbar(p, shrink=0.8, pad = 0.1)\n",
    "\n",
    "gl = ax.gridlines(crs = cartopy.crs.PlateCarree(),\n",
    "                  draw_labels = True,\n",
    "                  color = 'grey',\n",
    "                  linestyle = '--') \n",
    "\n",
    "\n",
    "plt.savefig(\"output/{}_{}_{}_{}.png\".format(variable, model, experiment, end))\n",
    "\n",
    "plt.show()\n"
   ]
  },
  {
   "cell_type": "markdown",
   "id": "664eed5a-f132-4b53-996f-b058e27c78f5",
   "metadata": {
    "tags": []
   },
   "source": [
    "## Time series"
   ]
  },
  {
   "cell_type": "code",
   "execution_count": 15,
   "id": "26a549ec-ae47-438e-88ed-85ebf2138a50",
   "metadata": {},
   "outputs": [
    {
     "data": {
      "text/plain": [
       "86"
      ]
     },
     "execution_count": 15,
     "metadata": {},
     "output_type": "execute_result"
    }
   ],
   "source": [
    "# Join the two files with time \n",
    "\n",
    "data = nct.open_data(\"Data/{}_{}_{}.nc\".format(variable, model, experiment))\n",
    "\n",
    "time = data.years\n",
    "time = tuple(time)\n",
    "len(time)"
   ]
  },
  {
   "cell_type": "code",
   "execution_count": 16,
   "id": "b0fdbd85-b50f-4ce8-8adf-42e7dcb21311",
   "metadata": {
    "tags": []
   },
   "outputs": [
    {
     "name": "stdout",
     "output_type": "stream",
     "text": [
      "  variable  levels  points                                          long_name  \\\n",
      "0    intpp       1   65341  Primary Organic Carbon Production by All Types...   \n",
      "\n",
      "         units  \n",
      "0  mol m-2 s-1  \n"
     ]
    }
   ],
   "source": [
    "# Select regions 40S south \n",
    "\n",
    "data.crop(lon = [-180, 180], lat = [-90, -40])\n",
    "\n",
    "data.assign(space = lambda x: spatial_mean(x.intpp), drop = True)\n",
    "data.rename({\"space\":\"{}\".format(variable)})\n",
    "print(data.variables_detailed)\n",
    "\n",
    "data.to_nc(\"Data/{}_{}_{}_40S.nc\".format(variable, model, experiment), overwrite = True)"
   ]
  },
  {
   "cell_type": "code",
   "execution_count": 17,
   "id": "2d026f09-ea06-43f4-b48f-6a40b782b3fc",
   "metadata": {},
   "outputs": [
    {
     "name": "stdout",
     "output_type": "stream",
     "text": [
      "\u001b[32mcdo    yearmean: \u001b[0mProcessed 1 variable over 1117 timesteps [0.17s 220MB].\n"
     ]
    }
   ],
   "source": [
    "!cdo -yearmean Data/{variable}_{model}_{experiment}_40S.nc Data/{variable}_{model}_{experiment}_40S_mean.nc"
   ]
  },
  {
   "cell_type": "code",
   "execution_count": 18,
   "id": "c59ef77f-33bd-4bfc-9673-95023d875300",
   "metadata": {},
   "outputs": [
    {
     "name": "stdout",
     "output_type": "stream",
     "text": [
      "{'time': <class 'netCDF4._netCDF4.Variable'>\n",
      "float64 time(time)\n",
      "    standard_name: time\n",
      "    bounds: time_bnds\n",
      "    units: days since 0001-01-01 00:00:00\n",
      "    calendar: 365_day\n",
      "    axis: T\n",
      "unlimited dimensions: time\n",
      "current shape = (86,)\n",
      "filling off, 'time_bnds': <class 'netCDF4._netCDF4.Variable'>\n",
      "float64 time_bnds(time, bnds)\n",
      "unlimited dimensions: time\n",
      "current shape = (86, 2)\n",
      "filling off, 'intpp': <class 'netCDF4._netCDF4.Variable'>\n",
      "float32 intpp(time)\n",
      "    _FillValue: 1e+20\n",
      "    missing_value: 1e+20\n",
      "    cell_methods: time: mean\n",
      "unlimited dimensions: time\n",
      "current shape = (86,)\n",
      "filling off}\n",
      "(86,)\n"
     ]
    }
   ],
   "source": [
    "# Load new file: \n",
    "nc = Dataset(\"Data/{}_{}_{}_40S_mean.nc\".format(variable, model, experiment))\n",
    "print(nc.variables)\n",
    "var_mean = nc.variables[variable][:]\n",
    "print(var_mean.shape)\n",
    "time_mean= nc.variables['time'][:]"
   ]
  },
  {
   "cell_type": "code",
   "execution_count": 19,
   "id": "e05c2f28-dcc0-4b04-a8d8-1ce724b2b9da",
   "metadata": {},
   "outputs": [
    {
     "name": "stdout",
     "output_type": "stream",
     "text": [
      "\u001b[32mcdo    yearmax: \u001b[0mProcessed 1 variable over 1117 timesteps [0.14s 220MB].\n",
      "\u001b[32mcdo    yearmin: \u001b[0mProcessed 1 variable over 1117 timesteps [0.15s 220MB].\n"
     ]
    }
   ],
   "source": [
    "!cdo -yearmax Data/{variable}_{model}_{experiment}_40S.nc Data/{variable}_{model}_{experiment}_40S_max.nc\n",
    "!cdo -yearmin Data/{variable}_{model}_{experiment}_40S.nc Data/{variable}_{model}_{experiment}_40S_min.nc"
   ]
  },
  {
   "cell_type": "code",
   "execution_count": 20,
   "id": "711d5397-229d-4c8c-af62-d0586b5b0d3f",
   "metadata": {},
   "outputs": [
    {
     "name": "stdout",
     "output_type": "stream",
     "text": [
      "(86,)\n"
     ]
    }
   ],
   "source": [
    "# Load new file: \n",
    "nc = Dataset(\"Data/{}_{}_{}_40S_min.nc\".format(variable, model, experiment))\n",
    "             \n",
    "var_min = nc.variables[variable][:]\n",
    "time_min= nc.variables['time'][:]\n",
    "\n",
    "print(var_min.shape)"
   ]
  },
  {
   "cell_type": "code",
   "execution_count": 21,
   "id": "bf7a4ca8-86da-4363-8d57-3a61765c64eb",
   "metadata": {},
   "outputs": [
    {
     "name": "stdout",
     "output_type": "stream",
     "text": [
      "(86,)\n"
     ]
    }
   ],
   "source": [
    "# Load new file: \n",
    "nc = Dataset(\"Data/{}_{}_{}_40S_max.nc\".format(variable, model, experiment))\n",
    "             \n",
    "var_max = nc.variables[variable][:]\n",
    "time_max= nc.variables['time'][:]\n",
    "\n",
    "print(var_max.shape)"
   ]
  },
  {
   "cell_type": "code",
   "execution_count": 24,
   "id": "c3443975-015d-48bb-8468-f4031f0b232a",
   "metadata": {},
   "outputs": [
    {
     "data": {
      "image/png": "[encoded data removed]",
      "text/plain": [
       "<Figure size 432x288 with 1 Axes>"
      ]
     },
     "metadata": {
      "needs_background": "light"
     },
     "output_type": "display_data"
    }
   ],
   "source": [
    "fig, ax = plt.subplots()\n",
    "\n",
    "ax.plot(time, var_mean, 'k')\n",
    "ax.plot(time, var_max, 'r')\n",
    "ax.plot(time, var_min, 'b')\n",
    "\n",
    "ax.title.set_text(\"{}\".format(model))\n",
    "\n",
    "ax.set_xlabel('xlabel', fontdict=dict(weight='bold'))\n",
    "ax.set_ylabel('xlabel', fontdict=dict(weight='bold'))\n",
    "\n",
    "plt.ylabel(\"NPP (mol m-2 s-1)\")\n",
    "plt.xlabel(\"Year\")\n",
    "\n",
    "plt.savefig(\"output/{}_{}_{}_projection.png\".format(variable, model, experiment))\n",
    "\n",
    "plt.show()"
   ]
  }
 ],
 "metadata": {
  "kernelspec": {
   "display_name": "Python 3 + Jaspy",
   "language": "python",
   "name": "jaspy"
  },
  "language_info": {
   "codemirror_mode": {
    "name": "ipython",
    "version": 3
   },
   "file_extension": ".py",
   "mimetype": "text/x-python",
   "name": "python",
   "nbconvert_exporter": "python",
   "pygments_lexer": "ipython3",
   "version": "3.8.12"
  }
 },
 "nbformat": 4,
 "nbformat_minor": 5
}
