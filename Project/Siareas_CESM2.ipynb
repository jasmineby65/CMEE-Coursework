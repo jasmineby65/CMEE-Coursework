{
 "cells": [
  {
   "cell_type": "code",
   "execution_count": 1,
   "id": "15376500-961d-4161-874d-69f2df31c267",
   "metadata": {},
   "outputs": [
    {
     "name": "stdout",
     "output_type": "stream",
     "text": [
      "4 files were created by nctoolkit in prior or current sessions. Consider running deep_clean!\n",
      "nctoolkit is using Climate Data Operators version 1.9.8\n"
     ]
    }
   ],
   "source": [
    "from netCDF4 import Dataset\n",
    "import cartopy\n",
    "import numpy as np\n",
    "import matplotlib.pyplot as plt\n",
    "import matplotlib.colors as mcol\n",
    "import matplotlib.cm as cm\n",
    "import os\n",
    "import nctoolkit as nct\n",
    "import regex\n",
    "from matplotlib.ticker import FormatStrFormatter"
   ]
  },
  {
   "cell_type": "code",
   "execution_count": 2,
   "id": "ccf7c54c-1497-4f76-9b35-20629eecef8a",
   "metadata": {},
   "outputs": [
    {
     "name": "stdout",
     "output_type": "stream",
     "text": [
      "/home/users/zy1921/Ind_variables\n"
     ]
    }
   ],
   "source": [
    "os.chdir('/home/users/zy1921/Ind_variables/')\n",
    "print(os.getcwd())"
   ]
  },
  {
   "cell_type": "code",
   "execution_count": 3,
   "id": "50c7e9b4-a660-4a4a-9ed8-03e4b0b178ec",
   "metadata": {},
   "outputs": [
    {
     "name": "stdout",
     "output_type": "stream",
     "text": [
      "['siareas']\n",
      "Data/Raw/siareas_SImon_CESM2_esm-ssp585_r1i1p1f1_gn_201501-206412.nc, Data/Raw/siareas_SImon_CESM2_esm-ssp585_r1i1p1f1_gn_206501-210012.nc\n",
      "siareas\n",
      "CESM2\n",
      "esm-ssp585\n"
     ]
    }
   ],
   "source": [
    "# Load multiple files at once and getting variable names\n",
    "\n",
    "files = ['Data/Raw/siareas_SImon_CESM2_esm-ssp585_r1i1p1f1_gn_201501-206412.nc', \n",
    "        'Data/Raw/siareas_SImon_CESM2_esm-ssp585_r1i1p1f1_gn_206501-210012.nc']\n",
    "nc = nct.open_data(files)\n",
    "print(nc.variables)\n",
    "\n",
    "names = ', '.join(files)\n",
    "print(names)\n",
    "\n",
    "variable = regex.search(r\"(?<=Data/Raw/)[^_]*\", names).group()\n",
    "print(variable)\n",
    "model = regex.search(r\"(?<=Data/Raw/.*?_.*?_)[^_]*\", names).group()\n",
    "print(model)\n",
    "experiment = regex.search(r\"(?<=Data/Raw/.*?_.*?_.*?_)[^_]*\", names).group()\n",
    "print(experiment)\n",
    "\n",
    "start = 2015\n",
    "end = 2100"
   ]
  },
  {
   "cell_type": "code",
   "execution_count": 7,
   "id": "00c5b329-8d6e-432c-9d45-4ed74eead14b",
   "metadata": {},
   "outputs": [
    {
     "ename": "ValueError",
     "evalue": "b\"Warning (cdfInqContents): Coordinates variable time cant be assigned!Warning (cdfInqContents): Coordinates variable time cant be assigned!cdo    mergetime (Abort): Outputfile Data/siareas_CESM2_esm-ssp585.nc already exists!\"",
     "output_type": "error",
     "traceback": [
      "\u001b[0;31m---------------------------------------------------------------------------\u001b[0m",
      "\u001b[0;31mValueError\u001b[0m                                Traceback (most recent call last)",
      "\u001b[0;32m/tmp/ipykernel_8114/2408416726.py\u001b[0m in \u001b[0;36m<module>\u001b[0;34m\u001b[0m\n\u001b[1;32m      1\u001b[0m \u001b[0mnc\u001b[0m\u001b[0;34m.\u001b[0m\u001b[0mmerge\u001b[0m\u001b[0;34m(\u001b[0m\u001b[0;34m\"time\"\u001b[0m\u001b[0;34m)\u001b[0m\u001b[0;34m\u001b[0m\u001b[0;34m\u001b[0m\u001b[0m\n\u001b[1;32m      2\u001b[0m \u001b[0mnc\u001b[0m\u001b[0;34m.\u001b[0m\u001b[0mvariables_detailed\u001b[0m\u001b[0;34m\u001b[0m\u001b[0;34m\u001b[0m\u001b[0m\n\u001b[0;32m----> 3\u001b[0;31m \u001b[0mnc\u001b[0m\u001b[0;34m.\u001b[0m\u001b[0mto_nc\u001b[0m\u001b[0;34m(\u001b[0m\u001b[0;34m\"Data/{}_{}_{}.nc\"\u001b[0m\u001b[0;34m.\u001b[0m\u001b[0mformat\u001b[0m\u001b[0;34m(\u001b[0m\u001b[0mvariable\u001b[0m\u001b[0;34m,\u001b[0m \u001b[0mmodel\u001b[0m\u001b[0;34m,\u001b[0m \u001b[0mexperiment\u001b[0m\u001b[0;34m)\u001b[0m\u001b[0;34m,\u001b[0m \u001b[0moverwrite\u001b[0m \u001b[0;34m=\u001b[0m \u001b[0;32mTrue\u001b[0m\u001b[0;34m)\u001b[0m\u001b[0;34m\u001b[0m\u001b[0;34m\u001b[0m\u001b[0m\n\u001b[0m",
      "\u001b[0;32m/opt/jaspy/lib/python3.8/site-packages/nctoolkit/to_nc.py\u001b[0m in \u001b[0;36mto_nc\u001b[0;34m(self, out, zip, overwrite)\u001b[0m\n\u001b[1;32m     98\u001b[0m         \u001b[0mself\u001b[0m\u001b[0;34m.\u001b[0m\u001b[0m_execute\u001b[0m \u001b[0;34m=\u001b[0m \u001b[0;32mTrue\u001b[0m\u001b[0;34m\u001b[0m\u001b[0;34m\u001b[0m\u001b[0m\n\u001b[1;32m     99\u001b[0m \u001b[0;34m\u001b[0m\u001b[0m\n\u001b[0;32m--> 100\u001b[0;31m         \u001b[0mrun_this\u001b[0m\u001b[0;34m(\u001b[0m\u001b[0mcdo_command\u001b[0m\u001b[0;34m,\u001b[0m \u001b[0mself\u001b[0m\u001b[0;34m,\u001b[0m \u001b[0mout_file\u001b[0m\u001b[0;34m=\u001b[0m\u001b[0mout\u001b[0m\u001b[0;34m)\u001b[0m\u001b[0;34m\u001b[0m\u001b[0;34m\u001b[0m\u001b[0m\n\u001b[0m\u001b[1;32m    101\u001b[0m         \u001b[0mself\u001b[0m\u001b[0;34m.\u001b[0m\u001b[0m_execute\u001b[0m \u001b[0;34m=\u001b[0m \u001b[0;32mFalse\u001b[0m\u001b[0;34m\u001b[0m\u001b[0;34m\u001b[0m\u001b[0m\n\u001b[1;32m    102\u001b[0m \u001b[0;34m\u001b[0m\u001b[0m\n",
      "\u001b[0;32m/opt/jaspy/lib/python3.8/site-packages/nctoolkit/runthis.py\u001b[0m in \u001b[0;36mrun_this\u001b[0;34m(os_command, self, output, out_file)\u001b[0m\n\u001b[1;32m    626\u001b[0m             \u001b[0mos_command\u001b[0m \u001b[0;34m=\u001b[0m \u001b[0mtidy_command\u001b[0m\u001b[0;34m(\u001b[0m\u001b[0mos_command\u001b[0m\u001b[0;34m)\u001b[0m\u001b[0;34m\u001b[0m\u001b[0;34m\u001b[0m\u001b[0m\n\u001b[1;32m    627\u001b[0m \u001b[0;34m\u001b[0m\u001b[0m\n\u001b[0;32m--> 628\u001b[0;31m             \u001b[0mtarget\u001b[0m \u001b[0;34m=\u001b[0m \u001b[0mrun_cdo\u001b[0m\u001b[0;34m(\u001b[0m\u001b[0mos_command\u001b[0m\u001b[0;34m,\u001b[0m \u001b[0mtarget\u001b[0m\u001b[0;34m,\u001b[0m \u001b[0mout_file\u001b[0m\u001b[0;34m)\u001b[0m\u001b[0;34m\u001b[0m\u001b[0;34m\u001b[0m\u001b[0m\n\u001b[0m\u001b[1;32m    629\u001b[0m \u001b[0;34m\u001b[0m\u001b[0m\n\u001b[1;32m    630\u001b[0m             \u001b[0mremove_safe\u001b[0m\u001b[0;34m(\u001b[0m\u001b[0mtarget\u001b[0m\u001b[0;34m)\u001b[0m\u001b[0;34m\u001b[0m\u001b[0;34m\u001b[0m\u001b[0m\n",
      "\u001b[0;32m/opt/jaspy/lib/python3.8/site-packages/nctoolkit/runthis.py\u001b[0m in \u001b[0;36mrun_cdo\u001b[0;34m(command, target, out_file, overwrite)\u001b[0m\n\u001b[1;32m    258\u001b[0m             \u001b[0mremove_safe\u001b[0m\u001b[0;34m(\u001b[0m\u001b[0mtarget\u001b[0m\u001b[0;34m)\u001b[0m\u001b[0;34m\u001b[0m\u001b[0;34m\u001b[0m\u001b[0m\n\u001b[1;32m    259\u001b[0m             \u001b[0mremove_safe\u001b[0m\u001b[0;34m(\u001b[0m\u001b[0mstart_target\u001b[0m\u001b[0;34m)\u001b[0m\u001b[0;34m\u001b[0m\u001b[0;34m\u001b[0m\u001b[0m\n\u001b[0;32m--> 260\u001b[0;31m             raise ValueError(\n\u001b[0m\u001b[1;32m    261\u001b[0m                 \u001b[0mstr\u001b[0m\u001b[0;34m(\u001b[0m\u001b[0mresult\u001b[0m\u001b[0;34m)\u001b[0m\u001b[0;34m.\u001b[0m\u001b[0mreplace\u001b[0m\u001b[0;34m(\u001b[0m\u001b[0;34m\"b'\"\u001b[0m\u001b[0;34m,\u001b[0m \u001b[0;34m\"\"\u001b[0m\u001b[0;34m)\u001b[0m\u001b[0;34m.\u001b[0m\u001b[0mreplace\u001b[0m\u001b[0;34m(\u001b[0m\u001b[0;34m\"\\\\n\"\u001b[0m\u001b[0;34m,\u001b[0m \u001b[0;34m\"\"\u001b[0m\u001b[0;34m)\u001b[0m\u001b[0;34m.\u001b[0m\u001b[0mreplace\u001b[0m\u001b[0;34m(\u001b[0m\u001b[0;34m\"'\"\u001b[0m\u001b[0;34m,\u001b[0m \u001b[0;34m\"\"\u001b[0m\u001b[0;34m)\u001b[0m\u001b[0;34m\u001b[0m\u001b[0;34m\u001b[0m\u001b[0m\n\u001b[1;32m    262\u001b[0m             )\n",
      "\u001b[0;31mValueError\u001b[0m: b\"Warning (cdfInqContents): Coordinates variable time cant be assigned!Warning (cdfInqContents): Coordinates variable time cant be assigned!cdo    mergetime (Abort): Outputfile Data/siareas_CESM2_esm-ssp585.nc already exists!\""
     ]
    }
   ],
   "source": [
    "nc.merge(\"time\")\n",
    "nc.to_nc(\"Data/{}_{}_{}.nc\".format(variable, model, experiment), overwrite = True)"
   ]
  },
  {
   "cell_type": "markdown",
   "id": "9b12cdbd-173f-4866-84b9-173057f7dc82",
   "metadata": {},
   "source": [
    "## Plotting map"
   ]
  },
  {
   "cell_type": "markdown",
   "id": "78dea889-fc01-43a7-84db-37f48563e70a",
   "metadata": {},
   "source": [
    "### 2015"
   ]
  },
  {
   "cell_type": "code",
   "execution_count": 11,
   "id": "1c59a1e3-332c-4f31-bc66-6ab92ef3d730",
   "metadata": {},
   "outputs": [],
   "source": [
    "data = nct.open_data(\"Data/{}_{}_{}.nc\".format(variable, model, experiment))\n",
    "data.select(year = start)\n",
    "data.tmean()\n",
    "data.to_nc(\"Data/{}_{}_{}_{}.nc\".format(variable, model, experiment, start), overwrite = True)"
   ]
  },
  {
   "cell_type": "code",
   "execution_count": 12,
   "id": "069f953f-094b-4cea-be00-00672a81b3b0",
   "metadata": {},
   "outputs": [
    {
     "name": "stdout",
     "output_type": "stream",
     "text": [
      "{'time': <class 'netCDF4._netCDF4.Variable'>\n",
      "float64 time(time)\n",
      "    standard_name: time\n",
      "    bounds: time_bnds\n",
      "    units: days since 0001-01-01 00:00:00\n",
      "    calendar: 365_day\n",
      "    axis: T\n",
      "unlimited dimensions: time\n",
      "current shape = (1,)\n",
      "filling off, 'time_bnds': <class 'netCDF4._netCDF4.Variable'>\n",
      "float64 time_bnds(time, bnds)\n",
      "unlimited dimensions: time\n",
      "current shape = (1, 2)\n",
      "filling off, 'siareas': <class 'netCDF4._netCDF4.Variable'>\n",
      "float32 siareas(time)\n",
      "    standard_name: sea_ice_area\n",
      "    long_name: Sea-Ice Area South\n",
      "    units: 1e6 km2\n",
      "    _FillValue: 1e+20\n",
      "    missing_value: 1e+20\n",
      "    cell_methods: area: time: mean\n",
      "    comment: sum(sum(hemisphere((aice*tarea),dim=\"nj\",dr=\"<\"),\"ni\"),\"nj\")\n",
      "    description: total area of sea ice in the Southern hemisphere\n",
      "    frequency: mon\n",
      "    id: siareas\n",
      "    mipTable: SImon\n",
      "    out_name: siareas\n",
      "    prov: SIMIP [seaicemon]\n",
      "    realm: seaIce\n",
      "    time: time\n",
      "    time_label: time-mean\n",
      "    time_title: Temporal mean\n",
      "    title: Sea-Ice Area South\n",
      "    type: real\n",
      "    variable_id: siareas\n",
      "    institution: NCAR\n",
      "unlimited dimensions: time\n",
      "current shape = (1,)\n",
      "filling off}\n"
     ]
    }
   ],
   "source": [
    "file = \"Data/{}_{}_{}_{}.nc\".format(variable, model, experiment, start)\n",
    "nc = Dataset(file)\n",
    "print(nc.variables)"
   ]
  },
  {
   "cell_type": "markdown",
   "id": "664eed5a-f132-4b53-996f-b058e27c78f5",
   "metadata": {},
   "source": [
    "## Time series"
   ]
  },
  {
   "cell_type": "code",
   "execution_count": 8,
   "id": "26a549ec-ae47-438e-88ed-85ebf2138a50",
   "metadata": {},
   "outputs": [
    {
     "name": "stdout",
     "output_type": "stream",
     "text": [
      "  variable  levels  points           long_name    units\n",
      "0  siareas       1       1  Sea-Ice Area South  1e6 km2\n"
     ]
    },
    {
     "data": {
      "text/plain": [
       "86"
      ]
     },
     "execution_count": 8,
     "metadata": {},
     "output_type": "execute_result"
    }
   ],
   "source": [
    "# Join the two files with time \n",
    "\n",
    "data = nct.open_data(\"Data/{}_{}_{}.nc\".format(variable, model, experiment))\n",
    "\n",
    "print(data.variables_detailed)\n",
    "\n",
    "time = data.years\n",
    "time = tuple(time)\n",
    "len(time)"
   ]
  },
  {
   "cell_type": "code",
   "execution_count": 13,
   "id": "2d026f09-ea06-43f4-b48f-6a40b782b3fc",
   "metadata": {},
   "outputs": [
    {
     "name": "stdout",
     "output_type": "stream",
     "text": [
      "\u001b[32mcdo    yearmean: \u001b[0mProcessed 1 variable over 1117 timesteps [0.16s 169MB].\n"
     ]
    }
   ],
   "source": [
    "!cdo -yearmean Data/{variable}_{model}_{experiment}.nc Data/{variable}_{model}_{experiment}_mean.nc"
   ]
  },
  {
   "cell_type": "code",
   "execution_count": 4,
   "id": "c59ef77f-33bd-4bfc-9673-95023d875300",
   "metadata": {},
   "outputs": [
    {
     "name": "stdout",
     "output_type": "stream",
     "text": [
      "{'time': <class 'netCDF4._netCDF4.Variable'>\n",
      "float64 time(time)\n",
      "    standard_name: time\n",
      "    bounds: time_bnds\n",
      "    units: days since 0001-01-01 00:00:00\n",
      "    calendar: 365_day\n",
      "    axis: T\n",
      "unlimited dimensions: time\n",
      "current shape = (86,)\n",
      "filling off, 'time_bnds': <class 'netCDF4._netCDF4.Variable'>\n",
      "float64 time_bnds(time, bnds)\n",
      "unlimited dimensions: time\n",
      "current shape = (86, 2)\n",
      "filling off, 'siareas': <class 'netCDF4._netCDF4.Variable'>\n",
      "float32 siareas(time)\n",
      "    standard_name: sea_ice_area\n",
      "    long_name: Sea-Ice Area South\n",
      "    units: 1e6 km2\n",
      "    _FillValue: 1e+20\n",
      "    missing_value: 1e+20\n",
      "    cell_methods: area: time: mean\n",
      "    comment: sum(sum(hemisphere((aice*tarea),dim=\"nj\",dr=\"<\"),\"ni\"),\"nj\")\n",
      "    description: total area of sea ice in the Southern hemisphere\n",
      "    frequency: mon\n",
      "    id: siareas\n",
      "    mipTable: SImon\n",
      "    out_name: siareas\n",
      "    prov: SIMIP [seaicemon]\n",
      "    realm: seaIce\n",
      "    time: time\n",
      "    time_label: time-mean\n",
      "    time_title: Temporal mean\n",
      "    title: Sea-Ice Area South\n",
      "    type: real\n",
      "    variable_id: siareas\n",
      "    institution: NCAR\n",
      "unlimited dimensions: time\n",
      "current shape = (86,)\n",
      "filling off}\n",
      "(86,)\n"
     ]
    }
   ],
   "source": [
    "# Load new file: \n",
    "nc = Dataset(\"Data/{}_{}_{}_mean.nc\".format(variable, model, experiment))\n",
    "print(nc.variables)\n",
    "var_mean = nc.variables[variable][:]\n",
    "print(var_mean.shape)\n",
    "time_mean= nc.variables['time'][:]"
   ]
  },
  {
   "cell_type": "code",
   "execution_count": 16,
   "id": "e05c2f28-dcc0-4b04-a8d8-1ce724b2b9da",
   "metadata": {},
   "outputs": [
    {
     "name": "stdout",
     "output_type": "stream",
     "text": [
      "\u001b[32mcdo    yearmax: \u001b[0mProcessed 1 variable over 1117 timesteps [0.16s 170MB].\n",
      "\u001b[32mcdo    yearmin: \u001b[0mProcessed 1 variable over 1117 timesteps [0.13s 170MB].\n"
     ]
    }
   ],
   "source": [
    "!cdo -yearmax Data/{variable}_{model}_{experiment}.nc Data/{variable}_{model}_{experiment}_max.nc\n",
    "!cdo -yearmin Data/{variable}_{model}_{experiment}.nc Data/{variable}_{model}_{experiment}_min.nc"
   ]
  },
  {
   "cell_type": "code",
   "execution_count": 5,
   "id": "711d5397-229d-4c8c-af62-d0586b5b0d3f",
   "metadata": {},
   "outputs": [],
   "source": [
    "# Load new file: \n",
    "nc = Dataset(\"Data/{}_{}_{}_min.nc\".format(variable, model, experiment))\n",
    "             \n",
    "var_min = nc.variables[variable][:]\n",
    "time_min= nc.variables['time'][:]"
   ]
  },
  {
   "cell_type": "code",
   "execution_count": 6,
   "id": "bf7a4ca8-86da-4363-8d57-3a61765c64eb",
   "metadata": {},
   "outputs": [
    {
     "data": {
      "text/plain": [
       "13.961336"
      ]
     },
     "execution_count": 6,
     "metadata": {},
     "output_type": "execute_result"
    }
   ],
   "source": [
    "# Load new file: \n",
    "nc = Dataset(\"Data/{}_{}_{}_max.nc\".format(variable, model, experiment))\n",
    "             \n",
    "var_max = nc.variables[variable][:]\n",
    "time_max= nc.variables['time'][:]\n",
    "var_max[1]"
   ]
  },
  {
   "cell_type": "code",
   "execution_count": 9,
   "id": "c3443975-015d-48bb-8468-f4031f0b232a",
   "metadata": {},
   "outputs": [
    {
     "data": {
      "image/png": "[encoded data removed]",
      "text/plain": [
       "<Figure size 432x288 with 1 Axes>"
      ]
     },
     "metadata": {
      "needs_background": "light"
     },
     "output_type": "display_data"
    }
   ],
   "source": [
    "fig, ax = plt.subplots()\n",
    "\n",
    "ax.plot(time, var_mean, 'k')\n",
    "ax.plot(time, var_max, 'r')\n",
    "ax.plot(time, var_min, 'b')\n",
    "\n",
    "ax.title.set_text(\"{}\".format(model))\n",
    "\n",
    "ax.set_xlabel('xlabel', fontdict=dict(weight='bold'))\n",
    "ax.set_ylabel('xlabel', fontdict=dict(weight='bold'))\n",
    "\n",
    "plt.ylabel(\"Sea ice area (1,000,000km)\")\n",
    "plt.xlabel(\"Year\")\n",
    "\n",
    "plt.savefig(\"output/{}_{}_{}_projection.png\".format(variable, model, experiment))\n",
    "\n",
    "plt.show()"
   ]
  }
 ],
 "metadata": {
  "kernelspec": {
   "display_name": "Python 3 + Jaspy",
   "language": "python",
   "name": "jaspy"
  },
  "language_info": {
   "codemirror_mode": {
    "name": "ipython",
    "version": 3
   },
   "file_extension": ".py",
   "mimetype": "text/x-python",
   "name": "python",
   "nbconvert_exporter": "python",
   "pygments_lexer": "ipython3",
   "version": "3.8.12"
  }
 },
 "nbformat": 4,
 "nbformat_minor": 5
}
